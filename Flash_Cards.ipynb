{
 "cells": [
  {
   "cell_type": "code",
   "execution_count": 8,
   "metadata": {},
   "outputs": [
    {
     "name": "stdout",
     "output_type": "stream",
     "text": [
      "{'mutable object': 'An object, such as a list, that can be altered.', 'immutable object': 'An object that cannot be altered.', 'steps in machine learning': '1. Import data \\n2. Clean data \\n 3.Split data to training/test sets \\n4. Create model \\n5. Train model \\n 6.Make predictions \\n7. Evaluate and improve', \"What does '.shape' do \": 'Shows you how many rows and columns are in the df', \"What does '.describe' do\": 'Returns count, mean, std, min, max for each column', 'What is a method': 'Similar to function but associated with object/classes, and has access to data associated with the object.', 'What is a function': 'block of code to carry out a task, contains its own scope, called by name.', 'What order does a list (a stack) add/remove things': 'Last in, First out', 'What are tuples': ' immuatable, usually contain heterogeneous sequence of elements that are accessed via unpacking, or indexing', 'What is a set': 'An unordered collection with no duplicate elements', 'How do you create an empty set and set with elements?': \"set() and x = {1, 2, 'etc'}\", \"What's a dictionary\": 'a set of key: value pairs with the requirement that keys are unique in each dictionary'}\n"
     ]
    }
   ],
   "source": [
    "dict_of_cards = {}\n",
    "\n",
    "def input_flash(term, definition):\n",
    "    dict_of_cards.update({term: definition})\n",
    "    return dict_of_cards\n",
    "\n",
    "flash_cards = input_flash(\"mutable object\", \"An object, such as a list, that can be altered.\")\n",
    "input_flash(\"immutable object\", \"An object that cannot be altered.\")\n",
    "input_flash(\"steps in machine learning\",\n",
    "            \"1. Import data \\n2. Clean data \\n3 .Split data to training/test sets \\n4. Create model \\n5. Train model \\n6. Make predictions \\n7. Evaluate and improve\")\n",
    "input_flash(\"What does '.shape' do \", \"Shows you how many rows and columns are in the df\" )\n",
    "input_flash(\"What does '.describe' do\", \"Returns count, mean, std, min, max for each column\")\n",
    "input_flash(\"What is a method\", \"function associated with a type.\")\n",
    "input_flash(\"What is a function\", \"block of code to carry out a task, contains its own scope, called by name.\")\n",
    "input_flash(\"What order does a list (a stack) add/remove things\", \"Last in, First out\")\n",
    "input_flash(\"What are tuples\", \" immuatable, usually contain heterogeneous sequence of elements that are accessed via unpacking, or indexing\")\n",
    "input_flash(\"What is a set\", \"An unordered collection with no duplicate elements\")\n",
    "input_flash(\"How do you create an empty set and set with elements?\", \"set() and x = {1, 2, 'etc'}\")\n",
    "input_flash(\"What's a dictionary\", \"a set of key: value pairs with the requirement that keys are unique in each dictionary\")\n",
    "\n",
    "\n",
    "\n",
    "print(flash_cards)"
   ]
  },
  {
   "cell_type": "code",
   "execution_count": null,
   "metadata": {},
   "outputs": [],
   "source": []
  },
  {
   "cell_type": "code",
   "execution_count": 11,
   "metadata": {},
   "outputs": [
    {
     "name": "stdout",
     "output_type": "stream",
     "text": [
      "Press 'enter' to see your next flash card \n",
      "mutable object\n",
      "\n",
      "An object, such as a list, that can be altered. \n",
      "\n",
      "Press 'enter' to see your next flash card \n",
      "immutable object\n",
      "\n",
      "An object that cannot be altered. \n",
      "\n",
      "Press 'enter' to see your next flash card \n",
      "steps in machine learning\n",
      "\n",
      "1. Import data \n",
      "2. Clean data \n",
      " 3.Split data to training/test sets \n",
      "4. Create model \n",
      "5. Train model \n",
      " 6.Make predictions \n",
      "7. Evaluate and improve \n",
      "\n",
      "Press 'enter' to see your next flash card \n",
      "What does '.shape' do \n",
      "\n",
      "Shows you how many rows and columns are in the df \n",
      "\n",
      "Press 'enter' to see your next flash card \n",
      "What does '.describe' do\n",
      "\n",
      "Returns count, mean, std, min, max for each column \n",
      "\n",
      "Press 'enter' to see your next flash card \n",
      "What is a method\n",
      "\n",
      "Similar to function but associated with object/classes, and has access to data associated with the object. \n",
      "\n",
      "Press 'enter' to see your next flash card \n",
      "What is a function\n",
      "\n",
      "block of code to carry out a task, contains its own scope, called by name. \n",
      "\n",
      "Press 'enter' to see your next flash card \n",
      "What order does a list (a stack) add/remove things\n",
      "\n",
      "Last in, First out \n",
      "\n",
      "Press 'enter' to see your next flash card \n",
      "What are tuples\n",
      "\n",
      " immuatable, usually contain heterogeneous sequence of elements that are accessed via unpacking, or indexing \n",
      "\n",
      "Press 'enter' to see your next flash card \n",
      "What is a set\n",
      "\n",
      "An unordered collection with no duplicate elements \n",
      "\n",
      "Press 'enter' to see your next flash card \n",
      "How do you create an empty set and set with elements?\n",
      "\n",
      "set() and x = {1, 2, 'etc'} \n",
      "\n",
      "Press 'enter' to see your next flash card \n",
      "What's a dictionary\n",
      "\n",
      "a set of key: value pairs with the requirement that keys are unique in each dictionary \n",
      "\n"
     ]
    }
   ],
   "source": [
    "\n",
    "\n",
    "number=0\n",
    "terms_list= list(flash_cards.keys())\n",
    "definitions_list = list(flash_cards.values())\n",
    "for term in terms_list:\n",
    "    order = input(\"Press 'enter' to see your next flash card \")\n",
    "    if order == \"\":\n",
    "        if number + 1 <= len(terms_list):\n",
    "            number = number\n",
    "        else:\n",
    "            number = 0\n",
    "        print(terms_list[number])\n",
    "    elif order != '':\n",
    "        break\n",
    "    for definition in definitions_list:\n",
    "        def_question = input(\"\")\n",
    "        if def_question == '':                     \n",
    "            print(definitions_list[number], \"\\n\")\n",
    "            number+=1\n",
    "            break\n",
    "        else:\n",
    "            break\n",
    "    if order != \"\":\n",
    "        print(\"k bye!\")\n",
    "        break\n",
    "\n"
   ]
  },
  {
   "cell_type": "code",
   "execution_count": null,
   "metadata": {},
   "outputs": [],
   "source": []
  },
  {
   "cell_type": "code",
   "execution_count": 70,
   "metadata": {},
   "outputs": [
    {
     "name": "stdout",
     "output_type": "stream",
     "text": [
      "Enter 'y' to see your next flash card y\n",
      "mutable object\n",
      "Enter 'y' to see the definition y\n",
      "An object, such as a list, that can be altered. \n",
      "\n",
      "Enter 'y' to see your next flash card n\n",
      "k bye!\n"
     ]
    }
   ],
   "source": [
    "number=0\n",
    "terms_list= list(flash_cards.keys())\n",
    "definitions_list = list(flash_cards.values())\n",
    "for term , definition in zip(terms_list, definitions_list):\n",
    "    order = input(\"Enter 'y' to see your next flash card \")\n",
    "    if order == \"y\":\n",
    "        if number + 1 <= len(terms_list):\n",
    "            number = number\n",
    "        else:\n",
    "            number = 0\n",
    "        print(terms_list[number])\n",
    "    if order != \"y\":\n",
    "        print(\"k bye!\")\n",
    "        break\n",
    "    for definition in definitions_list:\n",
    "        def_question = input(\"Enter 'y' to see the definition \")\n",
    "        if def_question == 'y':                     \n",
    "            print(definitions_list[number], \"\\n\")\n",
    "            number+=1\n",
    "            break\n",
    "        else:\n",
    "            break\n",
    "    if def_question != \"y\":\n",
    "        print(\"k bye!\")\n",
    "        break\n",
    "\n"
   ]
  },
  {
   "cell_type": "code",
   "execution_count": 6,
   "metadata": {},
   "outputs": [
    {
     "ename": "SyntaxError",
     "evalue": "invalid syntax (<ipython-input-6-38607ec5d752>, line 7)",
     "output_type": "error",
     "traceback": [
      "\u001b[0;36m  File \u001b[0;32m\"<ipython-input-6-38607ec5d752>\"\u001b[0;36m, line \u001b[0;32m7\u001b[0m\n\u001b[0;31m    input_flash2(\"What is a module\", \"A (text) file consisting of python code that defines functions, classes, and/or variables\" :\u001b[0m\n\u001b[0m                                                                                                                                 ^\u001b[0m\n\u001b[0;31mSyntaxError\u001b[0m\u001b[0;31m:\u001b[0m invalid syntax\n"
     ]
    }
   ],
   "source": [
    "dict_of_cards2 = {}\n",
    "\n",
    "def input_flash2(term, definition):\n",
    "    dict_of_cards2.update({term: definition})\n",
    "    return dict_of_cards2\n",
    "\n",
    "input_flash2(\"What is a module\", \"A (text) file consisting of python code that defines functions, classes, and/or variables\" :\n",
    "             \"What is .dir()\", \"A built in function that returns the names that a module defines as a sorted list of strings\":\n",
    "            \"What is dot notation\", \"Lets you access any of the abilities the object might have (methods) or information it might store (attributes)\":\n",
    "            \"Instance variable\", \"variable that has different values for different instances of the same class\":\n",
    "            )\n",
    "             "
   ]
  },
  {
   "cell_type": "code",
   "execution_count": 10,
   "metadata": {},
   "outputs": [
    {
     "data": {
      "text/plain": [
       "['__add__',\n",
       " '__class__',\n",
       " '__contains__',\n",
       " '__delattr__',\n",
       " '__delitem__',\n",
       " '__dir__',\n",
       " '__doc__',\n",
       " '__eq__',\n",
       " '__format__',\n",
       " '__ge__',\n",
       " '__getattribute__',\n",
       " '__getitem__',\n",
       " '__gt__',\n",
       " '__hash__',\n",
       " '__iadd__',\n",
       " '__imul__',\n",
       " '__init__',\n",
       " '__init_subclass__',\n",
       " '__iter__',\n",
       " '__le__',\n",
       " '__len__',\n",
       " '__lt__',\n",
       " '__mul__',\n",
       " '__ne__',\n",
       " '__new__',\n",
       " '__reduce__',\n",
       " '__reduce_ex__',\n",
       " '__repr__',\n",
       " '__reversed__',\n",
       " '__rmul__',\n",
       " '__setattr__',\n",
       " '__setitem__',\n",
       " '__sizeof__',\n",
       " '__str__',\n",
       " '__subclasshook__',\n",
       " 'append',\n",
       " 'clear',\n",
       " 'copy',\n",
       " 'count',\n",
       " 'extend',\n",
       " 'index',\n",
       " 'insert',\n",
       " 'pop',\n",
       " 'remove',\n",
       " 'reverse',\n",
       " 'sort']"
      ]
     },
     "execution_count": 10,
     "metadata": {},
     "output_type": "execute_result"
    }
   ],
   "source": []
  },
  {
   "cell_type": "code",
   "execution_count": null,
   "metadata": {},
   "outputs": [],
   "source": []
  }
 ],
 "metadata": {
  "kernelspec": {
   "display_name": "Python 3",
   "language": "python",
   "name": "python3"
  },
  "language_info": {
   "codemirror_mode": {
    "name": "ipython",
    "version": 3
   },
   "file_extension": ".py",
   "mimetype": "text/x-python",
   "name": "python",
   "nbconvert_exporter": "python",
   "pygments_lexer": "ipython3",
   "version": "3.7.6"
  }
 },
 "nbformat": 4,
 "nbformat_minor": 2
}
