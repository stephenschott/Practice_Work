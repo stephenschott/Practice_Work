{
 "cells": [
  {
   "cell_type": "code",
   "execution_count": 63,
   "metadata": {},
   "outputs": [
    {
     "name": "stdout",
     "output_type": "stream",
     "text": [
      "{'mutable object': 'An object, such as a list, that can be altered.', 'immutable object': 'An object that cannot be altered.', 'steps in machine learning': '1. Import data 2. Clean data 3. Split data to training/test sets 4. Create model 5. Train model 6. Make predictions 7 Evaluate and improve', \"What does '.shape' do \": 'Shows you how many rows and columns are in the df', \"What does '.describe' do\": 'Returns count, mean, std, min, max for each column', 'What is a method': 'Similar to function but associated with object/classes, and has access to data associated with the object.', 'What is a function': 'block of code to carry out a task, contains its own scope, called by name.', 'What order does a list (a stack) add/remove things': 'Last in, First out', 'What are tuples': ' immuatable, usually contain heterogeneous sequence of elements that are accessed via unpacking, or indexing', 'What is a set': 'An unordered collection with no duplicate elements', 'How do you create an empty set and set with elements?': \"set() and x = {1, 2, 'etc'}\", \"What's a dictionary\": 'a set of key: value pairs with the requirement that keys are unique in each dictionary'}\n"
     ]
    }
   ],
   "source": [
    "dict_of_cards = {}\n",
    "\n",
    "def input_flash(term, definition):\n",
    "    dict_of_cards.update({term: definition})\n",
    "    return dict_of_cards\n",
    "\n",
    "flash_cards = input_flash(\"mutable object\", \"An object, such as a list, that can be altered.\")\n",
    "input_flash(\"immutable object\", \"An object that cannot be altered.\")\n",
    "input_flash(\"steps in machine learning\",\n",
    "            \"1. Import data 2. Clean data 3. Split data to training/test sets 4. Create model 5. Train model 6. Make predictions 7 Evaluate and improve\")\n",
    "input_flash(\"What does '.shape' do \", \"Shows you how many rows and columns are in the df\" )\n",
    "input_flash(\"What does '.describe' do\", \"Returns count, mean, std, min, max for each column\")\n",
    "input_flash(\"What is a method\", \"Similar to function but associated with object/classes, and has access to data associated with the object.\")\n",
    "input_flash(\"What is a function\", \"block of code to carry out a task, contains its own scope, called by name.\")\n",
    "input_flash(\"What order does a list (a stack) add/remove things\", \"Last in, First out\")\n",
    "input_flash(\"What are tuples\", \" immuatable, usually contain heterogeneous sequence of elements that are accessed via unpacking, or indexing\")\n",
    "input_flash(\"What is a set\", \"An unordered collection with no duplicate elements\")\n",
    "input_flash(\"How do you create an empty set and set with elements?\", \"set() and x = {1, 2, 'etc'}\")\n",
    "input_flash(\"What's a dictionary\", \"a set of key: value pairs with the requirement that keys are unique in each dictionary\")\n",
    "\n",
    "\n",
    "\n",
    "print(flash_cards)"
   ]
  },
  {
   "cell_type": "code",
   "execution_count": null,
   "metadata": {},
   "outputs": [],
   "source": []
  },
  {
   "cell_type": "code",
   "execution_count": 67,
   "metadata": {},
   "outputs": [
    {
     "name": "stdout",
     "output_type": "stream",
     "text": [
      "Enter 'y' to see your next flash card y\n",
      "Describe mutable object\n",
      "Enter 'y' to see the definition y\n",
      "An object, such as a list, that can be altered. \n",
      "\n",
      "Enter 'y' to see your next flash card y\n",
      "Describe immutable object\n",
      "Enter 'y' to see the definition y\n",
      "An object that cannot be altered. \n",
      "\n",
      "Enter 'y' to see your next flash card h\n"
     ]
    }
   ],
   "source": [
    "\n",
    "\n",
    "number=0\n",
    "terms_list= list(flash_cards.keys())\n",
    "definitions_list = list(flash_cards.values())\n",
    "for term in terms_list:\n",
    "    order = input(\"Enter 'y' to see your next flash card \")\n",
    "    if order == \"y\":\n",
    "        if number + 1 <= len(terms_list):\n",
    "            number = number\n",
    "        else:\n",
    "            number = 0\n",
    "        print(\"Describe \" + terms_list[number])\n",
    "    elif order != 'y':\n",
    "        break\n",
    "    for definition in definitions_list:\n",
    "        def_question = input(\"Enter 'y' to see the definition \")\n",
    "        if def_question == 'y':                     \n",
    "            print(definitions_list[number], \"\\n\")\n",
    "            number+=1\n",
    "            break\n",
    "        else:\n",
    "            break\n",
    "    if order != \"y\":\n",
    "        print(\"k bye!\")\n",
    "        break\n",
    "\n"
   ]
  },
  {
   "cell_type": "code",
   "execution_count": 70,
   "metadata": {},
   "outputs": [
    {
     "name": "stdout",
     "output_type": "stream",
     "text": [
      "Enter 'y' to see your next flash card y\n",
      "mutable object\n",
      "Enter 'y' to see the definition y\n",
      "An object, such as a list, that can be altered. \n",
      "\n",
      "Enter 'y' to see your next flash card n\n",
      "k bye!\n"
     ]
    }
   ],
   "source": [
    "number=0\n",
    "terms_list= list(flash_cards.keys())\n",
    "definitions_list = list(flash_cards.values())\n",
    "for term , definition in zip(terms_list, definitions_list):\n",
    "    order = input(\"Enter 'y' to see your next flash card \")\n",
    "    if order == \"y\":\n",
    "        if number + 1 <= len(terms_list):\n",
    "            number = number\n",
    "        else:\n",
    "            number = 0\n",
    "        print(terms_list[number])\n",
    "    if order != \"y\":\n",
    "        print(\"k bye!\")\n",
    "        break\n",
    "    for definition in definitions_list:\n",
    "        def_question = input(\"Enter 'y' to see the definition \")\n",
    "        if def_question == 'y':                     \n",
    "            print(definitions_list[number], \"\\n\")\n",
    "            number+=1\n",
    "            break\n",
    "        else:\n",
    "            break\n",
    "    if def_question != \"y\":\n",
    "        print(\"k bye!\")\n",
    "        break\n",
    "\n"
   ]
  },
  {
   "cell_type": "code",
   "execution_count": null,
   "metadata": {},
   "outputs": [],
   "source": []
  }
 ],
 "metadata": {
  "kernelspec": {
   "display_name": "Python 3",
   "language": "python",
   "name": "python3"
  },
  "language_info": {
   "codemirror_mode": {
    "name": "ipython",
    "version": 3
   },
   "file_extension": ".py",
   "mimetype": "text/x-python",
   "name": "python",
   "nbconvert_exporter": "python",
   "pygments_lexer": "ipython3",
   "version": "3.7.4"
  }
 },
 "nbformat": 4,
 "nbformat_minor": 2
}
