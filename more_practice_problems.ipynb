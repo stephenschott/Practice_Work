{
 "cells": [
  {
   "cell_type": "markdown",
   "id": "relevant-binding",
   "metadata": {},
   "source": [
    "## Exercise 18\n",
    "#### Create a program that will play the “cows and bulls” game with the user. The game works like this:\n",
    "#### Randomly generate a 4-digit number. Ask the user to guess a 4-digit number. For every digit that the user guessed correctly in the correct place, they have a “bull”. For every digit the user guessed correctly in the wrong place is a “cow.” Every time the user makes a guess, tell them how many “cows” and “bulls” they have. Once the user guesses the correct number, the game is over. Keep track of the number of guesses the user makes throughout teh game and tell the user at the end."
   ]
  },
  {
   "cell_type": "code",
   "execution_count": 19,
   "id": "handmade-inquiry",
   "metadata": {},
   "outputs": [],
   "source": [
    "import numpy as np\n",
    "#Code from https://www.geeksforgeeks.org/python-cows-and-bulls-game/, utilized for coding practice\n",
    "\n",
    "\n",
    "def change_to_list(number):\n",
    "    return [int(x) for x in str(number)]\n",
    "\n",
    "def no_dupes(number):\n",
    "    number_list = change_to_list(number)\n",
    "    if len(number_list) == len(set(number_list)):\n",
    "        return True\n",
    "    else:\n",
    "        return False\n",
    "def num_gen():\n",
    "    while True:\n",
    "        number = np.random.randint(1000, 9999)\n",
    "        if no_dupes(number) == True:\n",
    "            return number\n",
    "        \n",
    "def cows_n_bulls(number, guess):\n",
    "    cows_bulls = [0,0]\n",
    "    guess_list = change_to_list(guess)\n",
    "    number_list = change_to_list(number)\n",
    "    \n",
    "    for i, j in zip(guess_list, number_list):\n",
    "        if i in number_list:\n",
    "            if i == j:\n",
    "                cows_bulls[1] += 1\n",
    "            else:\n",
    "                cows_bulls[0] += 1\n",
    "    return cows_bulls\n",
    "\n",
    "\n",
    "                \n",
    "    \n",
    "\n"
   ]
  },
  {
   "cell_type": "code",
   "execution_count": 22,
   "id": "modular-tender",
   "metadata": {},
   "outputs": [
    {
     "name": "stdout",
     "output_type": "stream",
     "text": [
      "2830\n",
      "Guess a four digit number between 1234 and 9876 that has no duplictes: 2834\n",
      "Bulls: 3, Cows: 0\n",
      "Guess a four digit number between 1234 and 9876 that has no duplictes: 1834\n",
      "Bulls: 2, Cows: 0\n",
      "Guess a four digit number between 1234 and 9876 that has no duplictes: 9840\n",
      "Bulls: 2, Cows: 0\n",
      "Guess a four digit number between 1234 and 9876 that has no duplictes: 2803\n",
      "Bulls: 2, Cows: 2\n",
      "Guess a four digit number between 1234 and 9876 that has no duplictes: 2830\n",
      "Bulls: 4, Cows: 0\n",
      "Good job! 2830 is the correct number! and you got it in 5 tries!\n"
     ]
    }
   ],
   "source": [
    "#Code from https://www.geeksforgeeks.org/python-cows-and-bulls-game/, utilized for coding practice\n",
    "\n",
    "number = num_gen()\n",
    "print(number)\n",
    "count = 1\n",
    "\n",
    "while count < 100:\n",
    "    guess = int(input(\"Guess a four digit number between 1234 and 9876 that has no duplictes: \"))\n",
    "\n",
    "    if no_dupes(guess) == False:\n",
    "        print(\"Try again! No numbers may be used more than once in your guess!\")\n",
    "        count+= 1\n",
    "    if guess < 1234 or guess > 9876:\n",
    "        print(\"Make sure you enter four digits between 1234 and 9876!\")\n",
    "        count+= 1\n",
    "    bulls_vs_cows = cows_n_bulls(number, guess)\n",
    "    print(f'Bulls: {bulls_vs_cows[1]}, Cows: {bulls_vs_cows[0]}')\n",
    "\n",
    "    if bulls_vs_cows[1] == 4:\n",
    "        print(f'Good job! {guess} is the correct number and you got it in {count} tries!')\n",
    "        break\n",
    "    else:\n",
    "        count+= 1\n",
    "        continue"
   ]
  },
  {
   "cell_type": "code",
   "execution_count": null,
   "id": "postal-crowd",
   "metadata": {},
   "outputs": [],
   "source": []
  },
  {
   "cell_type": "code",
   "execution_count": null,
   "id": "together-supplement",
   "metadata": {},
   "outputs": [],
   "source": []
  }
 ],
 "metadata": {
  "kernelspec": {
   "display_name": "Python 3",
   "language": "python",
   "name": "python3"
  },
  "language_info": {
   "codemirror_mode": {
    "name": "ipython",
    "version": 3
   },
   "file_extension": ".py",
   "mimetype": "text/x-python",
   "name": "python",
   "nbconvert_exporter": "python",
   "pygments_lexer": "ipython3",
   "version": "3.9.2"
  }
 },
 "nbformat": 4,
 "nbformat_minor": 5
}
