{
 "cells": [
  {
   "cell_type": "markdown",
   "id": "relevant-binding",
   "metadata": {},
   "source": [
    "## Exercise 18\n",
    "#### Create a program that will play the “cows and bulls” game with the user. The game works like this:\n",
    "#### Randomly generate a 4-digit number. Ask the user to guess a 4-digit number. For every digit that the user guessed correctly in the correct place, they have a “bull”. For every digit the user guessed correctly in the wrong place is a “cow.” Every time the user makes a guess, tell them how many “cows” and “bulls” they have. Once the user guesses the correct number, the game is over. Keep track of the number of guesses the user makes throughout teh game and tell the user at the end."
   ]
  },
  {
   "cell_type": "code",
   "execution_count": 19,
   "id": "handmade-inquiry",
   "metadata": {},
   "outputs": [],
   "source": [
    "import numpy as np\n",
    "#Code from https://www.geeksforgeeks.org/python-cows-and-bulls-game/, utilized for coding practice\n",
    "\n",
    "\n",
    "def change_to_list(number):\n",
    "    return [int(x) for x in str(number)]\n",
    "\n",
    "def no_dupes(number):\n",
    "    number_list = change_to_list(number)\n",
    "    if len(number_list) == len(set(number_list)):\n",
    "        return True\n",
    "    else:\n",
    "        return False\n",
    "def num_gen():\n",
    "    while True:\n",
    "        number = np.random.randint(1000, 9999)\n",
    "        if no_dupes(number) == True:\n",
    "            return number\n",
    "        \n",
    "def cows_n_bulls(number, guess):\n",
    "    cows_bulls = [0,0]\n",
    "    guess_list = change_to_list(guess)\n",
    "    number_list = change_to_list(number)\n",
    "    \n",
    "    for i, j in zip(guess_list, number_list):\n",
    "        if i in number_list:\n",
    "            if i == j:\n",
    "                cows_bulls[1] += 1\n",
    "            else:\n",
    "                cows_bulls[0] += 1\n",
    "    return cows_bulls\n",
    "\n",
    "\n",
    "                \n",
    "    \n",
    "\n"
   ]
  },
  {
   "cell_type": "code",
   "execution_count": 22,
   "id": "modular-tender",
   "metadata": {},
   "outputs": [
    {
     "name": "stdout",
     "output_type": "stream",
     "text": [
      "2830\n",
      "Guess a four digit number between 1234 and 9876 that has no duplictes: 2834\n",
      "Bulls: 3, Cows: 0\n",
      "Guess a four digit number between 1234 and 9876 that has no duplictes: 1834\n",
      "Bulls: 2, Cows: 0\n",
      "Guess a four digit number between 1234 and 9876 that has no duplictes: 9840\n",
      "Bulls: 2, Cows: 0\n",
      "Guess a four digit number between 1234 and 9876 that has no duplictes: 2803\n",
      "Bulls: 2, Cows: 2\n",
      "Guess a four digit number between 1234 and 9876 that has no duplictes: 2830\n",
      "Bulls: 4, Cows: 0\n",
      "Good job! 2830 is the correct number! and you got it in 5 tries!\n"
     ]
    }
   ],
   "source": [
    "#Code from https://www.geeksforgeeks.org/python-cows-and-bulls-game/, utilized for coding practice\n",
    "\n",
    "number = num_gen()\n",
    "print(number)\n",
    "count = 1\n",
    "\n",
    "while count < 100:\n",
    "    guess = int(input(\"Guess a four digit number between 1234 and 9876 that has no duplictes: \"))\n",
    "\n",
    "    if no_dupes(guess) == False:\n",
    "        print(\"Try again! No numbers may be used more than once in your guess!\")\n",
    "        count+= 1\n",
    "    if guess < 1234 or guess > 9876:\n",
    "        print(\"Make sure you enter four digits between 1234 and 9876!\")\n",
    "        count+= 1\n",
    "    bulls_vs_cows = cows_n_bulls(number, guess)\n",
    "    print(f'Bulls: {bulls_vs_cows[1]}, Cows: {bulls_vs_cows[0]}')\n",
    "\n",
    "    if bulls_vs_cows[1] == 4:\n",
    "        print(f'Good job! {guess} is the correct number and you got it in {count} tries!')\n",
    "        break\n",
    "    else:\n",
    "        count+= 1\n",
    "        continue"
   ]
  },
  {
   "cell_type": "markdown",
   "id": "recognized-bride",
   "metadata": {},
   "source": [
    "## Exercise 19\n",
    "#### Use the provided website and print all of the paragraph text into four pages"
   ]
  },
  {
   "cell_type": "code",
   "execution_count": 1,
   "id": "together-supplement",
   "metadata": {},
   "outputs": [],
   "source": [
    "from bs4 import BeautifulSoup\n",
    "import requests"
   ]
  },
  {
   "cell_type": "code",
   "execution_count": 2,
   "id": "special-transsexual",
   "metadata": {},
   "outputs": [],
   "source": [
    "source = requests.get('https://www.vanityfair.com/style/society/2014/06/monica-lewinsky-humiliation-culture').text\n",
    "soup = BeautifulSoup(source, 'lxml')"
   ]
  },
  {
   "cell_type": "code",
   "execution_count": 19,
   "id": "handy-cancellation",
   "metadata": {},
   "outputs": [
    {
     "name": "stdout",
     "output_type": "stream",
     "text": [
      "Shame and Survival\n",
      "She tried public appearances. She tried being reclusive. She tried leaving the country, and she tried finding a job. But the epic humiliation of 1998, when her affair with Bill Clinton became an all-consuming story, has followed Monica Lewinsky every day. After 10 years of self-imposed reticence, and now hoping to help victims of Internet shaming, she critiques the culture that put a 24-year-old through the wringer and calls out the feminists who joined the chorus.\n",
      "Me: Well, thanks. The first picture that surfaced was a passport photo. Would you like to have a passport photo splattered across publications around the world as the picture that defines you?What you are also saying here is that the primary quality that would qualify a woman to have an intimate relationship with a powerful man is physical attractiveness. If that’s not setting the movement back, I don’t know what is.Erica Jong: My dental hygienist pointed out that she had third-stage gum disease.Shellogg: What do you think will happen to [her]? I mean, she’ll just fade out quietly or write a book? Or people will forget about her six months from now?Nancy Friday: She can rent out her mouth.Me: (Speechless.)Jong: But, you know, men do like to get close to the mouth that has been close to power. Think of the fantasy in the man’s mind as she’s going down on him and he’s thinking, “Oh my God.”Elizabeth Benedict: Do for me what you did to the President. Do that.Me: (Still speechless.)Jong: I think it’s a tribute to how far we’ve come that we’re not trashing Monica Lewinsky.The catty confab appeared under the headline SUPERGALS LOVE THAT NAUGHTY PREZ. (Writing in Vanity Fair, Marjorie Williams called it “the most embarrassing thing I had read in a long time.”) To me, it illustrates a perplexing aspect of the culture of humiliation, one that Phyllis Chesler recognized in her book Woman’s Inhumanity to Woman: that women themselves are not immune to certain kinds of misogyny. We see it today in how the “mean girls” at school lurk on the modern playground of the Web (or around a pundit’s roundtable on TV or at a French restaurant), ever eager to pile on.I still have deep respect for feminism and am thankful for the great strides the movement has made in advancing women’s rights over the past few decades. But, given my experience of being passed around like gender-politics cocktail food, I don’t identify myself as a Feminist, capital F. The movement’s leaders failed in articulating a position that was not essentially anti-woman during the witch hunt of 1998. In the case of the New York Supergals, it should not have been that hard for them to swoon over the president without attacking and shaming me. Instead, they joined the humiliation derby.I , myself, deeply regret what happened between me and President Clinton. Let me say it again: I. Myself. Deeply. Regret. What. Happened. At the time—at least from my point of view—it was an authentic connection, with emotional intimacy, frequent visits, plans made, phone calls and gifts exchanged. In my early 20s, I was too young to understand the real-life consequences, and too young to see that I would be sacrificed for political expediency. I look back now, shake my head in disbelief, and wonder: what was I—what were we—thinking? I would give anything to go back and rewind the tape.Like many other Americans, I’ve been thinking about Hillary Clinton. What might happen, I’ve wondered, if she does run in 2016? And what if she wins—and then wins a second term?But when I think about these matters, there’s a dimension at play for me other than just the fact that we might finally have a woman in the White House. We all remember the second-wave feminist rallying cry The personal is political. Many people (myself included) proclaimed that my relationship with Bill Clinton was a personal matter, not one to be used in a high-stakes political war. When I hear of Hillary’s prospective candidacy, I cannot help but fear the next wave of paparazzi, the next wave of “Where is she now?” stories, the next reference to me in Fox News’s coverage of the primaries. I’ve begun to find it debilitating to plot out the cycle of my life based, to some degree, on the political calendar. For me, it’s a scenario in which the personal and the political are impossible to separate.In 2008, when Hillary was running for president, I remained virtually reclusive, despite being inundated with press requests. I put off announcing several media projects in 2012 until after the election. (They were subsequently canceled—and, no, I wasn’t offered $12 million for a salacious tell-all book, contrary to press reports.) And recently I’ve found myself gun-shy yet again, fearful of “becoming an issue” should she decide to ramp up her campaign. But should I put my life on hold for another 8 to 10 years?Being a conscientious Democrat—and aware that I could be used as a tool for the left or the right—I have remained silent for 10 years. So silent, in fact, that the buzz in some circles has been that the Clintons must have paid me off; why else would I have refrained from speaking out? I can assure you that nothing could be further from the truth.So why speak now? Because it is time.I turned 40 last year, and it is time to stop tiptoeing around my past—and other people’s futures. I am determined to have a different ending to my story. I’ve decided, finally, to stick my head above the parapet so that I can take back my narrative and give a purpose to my past. (What this will cost me, I will soon find out.) Despite what some headlines will falsely report about this piece, this is not about Me versus the Clintons. Their lives have moved on; they occupy important and powerful places on the global stage. I wish them no ill. And I fully understand that what has happened to me and the issue of my future do not matter to either of them.It also goes back to the personal and the political. I have lived many of the questions that have become central to our national discourse since 1998. How far should we allow the government into our bedrooms? How do we reconcile the right to privacy with the need to expose sexual indiscretion? How do we guard against an overzealous government demanding our private data and information? And, most important to me personally, how do we cope with the shame game as it’s played in the Internet Age? (My current goal is to get involved with efforts on behalf of victims of online humiliation and harassment and to start speaking on this topic in public forums.)So far, That Woman has never been able to escape the shadow of that first depiction. I was the Unstable Stalker (a phrase disseminated by the Clinton White House), the Dimwit Floozy, the Poor Innocent who didn’t know any better. The Clinton administration, the special prosecutor’s minions, the political operatives on both sides of the aisle, and the media were able to brand me. And that brand stuck, in part because it was imbued with power. I became a social representation, a social canvas on which anybody could project their confusion about women, sex, infidelity, politics, and body issues.Unlike the other parties involved, I was so young that I had no established identity to which I could return. I didn’t “let this define” me—I simply hadn’t had the life experience to establish my own identity in 1998. If you haven’t figured out who you are, it’s hard not to accept the horrible image of you created by others. (Thus, my compassion for young people who find themselves shamed on the Web.) Despite much self-searching and therapy and exploring of different paths, I remained “stuck” for far too many years.No longer. It’s time to burn the beret and bury the blue dress. And move forward.Monica Lewinsky Is Back1 / 5ChevronChevron\n"
     ]
    }
   ],
   "source": [
    "article = soup.find(class_=\"content-header__row content-header__hed\")\n",
    "sub_article = soup.find(class_= \"content-header__row content-header__dek\")\n",
    "for body_text in soup.find_all(class_ = \"grid--item body body__container article__body grid-layout__content\"):\n",
    "    body = body_text.text\n",
    "    \n",
    "#print(article.text)\n",
    "#print(sub_article.text)\n",
    "#print(body)\n"
   ]
  },
  {
   "cell_type": "code",
   "execution_count": 20,
   "id": "ordered-civilian",
   "metadata": {},
   "outputs": [
    {
     "name": "stdout",
     "output_type": "stream",
     "text": [
      "To revist this article, visit My Profile, then View saved stories.\n",
      "To revist this article, visit My Profile, then View saved stories.\n",
      "By Monica Lewinsky\n",
      "Photography by Mark Seliger\n",
      "To revist this article, visit My Profile, then View saved stories.\n",
      "To revist this article, visit My Profile, then View saved stories.\n",
      "‘How does it feel to be America’s premier blow-job queen?”\n",
      "It was early 2001. I was sitting on the stage of New York’s Cooper Union in the middle of taping a Q&A for an HBO documentary. I was the subject. And I was thunderstruck.\n",
      "Hundreds of people in the audience, mostly students, were staring at me, many with their mouths agape, wondering if I would dare to answer this question.\n",
      "The main reason I had agreed to participate in the program was not to rehash or revise the story line of Interngate but to try to shift the focus to meaningful issues. Many troubling political and judicial questions had been brought to light by the investigation and impeachment of President Bill Clinton. But the most egregious had been generally ignored. People seemed indifferent to the deeper matters at hand, such as the erosion of private life in the public sphere, the balance of power and gender inequality in politics and media, and the erosion of legal protections to ensure that neither a parent nor a child should ever have to testify against each other.\n",
      "How naïve I was.\n",
      "There were gasps and sputters from the audience. Numerous blurred, faceless people called out, “Don’t answer it!”\n",
      "“It’s hurtful and it’s insulting,” I said, attempting to gather my wits. “And as insulting as it is to me, it’s even more insulting to my family. I don’t actually know why this whole story became about oral sex. I don’t. It was a mutual relationship.… The fact that it did is maybe a result of a male-dominated society.”\n",
      "The audience laughed. Maybe they were surprised to hear these words coming from me.\n",
      "I looked straight at the smirking guy who had asked the question. “You might be better poised to answer that.” After a pause, I added, “That’s probably cost me another year of therapy.”\n",
      "You could argue that in agreeing to participate in an HBO documentary called Monica in Black and White I had signed up to be shamed and publicly humiliated yet again. You might even think I would have been inured to humiliation. This encounter at Cooper Union, after all, paled in comparison with the 445-page Starr Report, which was the culmination of independent counsel Kenneth Starr’s four-year investigation of the Clinton White House. It included chapter and verse about my intimate sexual activities, along with transcripts of audiotapes that chronicled many of my private conversations. But the “B.J. Queen” question—which was included in the show when it aired on HBO in 2002—sat with me for a long time after the audience left and the taping wrapped.\n",
      "True, this wasn’t the first time I’d been stigmatized for my affair with Bill Clinton. But never had I been so directly confronted, one-on-one, with such a crass characterization. One of the unintended consequences of my agreeing to put myself out there and to try to tell the truth had been that shame would once again be hung around my neck like a scarlet-A albatross. Believe me, once it’s on, it is a bitch to take off.\n",
      "Had that awkward moment at Cooper Union aired only a few years later, with the advent of social media, the humiliation would have been even more devastating. That clip would have gone viral on Twitter, YouTube, Facebook, TMZ, Gawker. It would have become a meme of its own on Tumblr. The viralness itself would have merited mention on the Daily Beast and Huffington Post. As it was, it was viral enough, and, thanks to the all-encompassing nature of the Web, you can, 12 years later, watch it all day long on YouTube if you want to (but I really hope you have better things to do with your time).\n",
      "I know I’m not alone when it comes to public humiliation. No one, it seems, can escape the unforgiving gaze of the Internet, where gossip, half-truths, and lies take root and fester. We have created, to borrow a term from historian Nicolaus Mills, a “culture of humiliation” that not only encourages and revels in Schadenfreude but also rewards those who humiliate others, from the ranks of the paparazzi to the gossip bloggers, the late-night comedians, and the Web “entrepreneurs” who profit from clandestine videos.\n",
      "Yes, we’re all connected now. We can tweet a revolution in the streets or chronicle achievements large and small. But we’re also caught in a feedback loop of defame and shame, one in which we have become both perps and victims. We may not have become a crueler society—although it sure feels as if we have—but the Internet has seismically shifted the tone of our interactions. The ease, the speed, and the distance that our electronic devices afford us can also make us colder, more glib, and less concerned about the consequences of our pranks and prejudice. Having lived humiliation in the most intimate possible way, I marvel at how willingly we have all signed on to this new way of being.\n",
      "In my own case, each easy click of that YouTube link reinforces the archetype, despite my efforts to parry it away: Me, America’s B.J. Queen. That Intern. That Vixen. Or, in the inescapable phrase of our 42nd president, “That Woman.”\n",
      "It may surprise you to learn that I’m actually a person.\n",
      "In 1998, when news of my affair with Bill Clinton broke, I was arguably the most humiliated person in the world. Thanks to the Drudge Report, I was also possibly the first person whose global humiliation was driven by the Internet.\n",
      "For several years I tried my hand in the fashion-accessory business and became involved in various media projects, including the HBO documentary. Then I lay low for the most part. (The last major interview I granted was 10 years ago.) After all, not lying low had exposed me to criticism for trying to “capitalize” on my “notoriety.” Apparently, others talking about me is O.K.; me speaking out for myself is not. I turned down offers that would have earned me more than $10 million, because they didn’t feel like the right thing to do. Over time, the media circus quieted down, but it never quite moved on, even as I attempted to move on.\n",
      "Meanwhile, I watched my friends’ lives move forward. Marriages. Kids. Degrees. (Second marriages. More kids. More degrees.) I decided to turn over a new leaf and attend grad school.\n",
      "I moved to England to study, to challenge myself, to escape scrutiny, and to reimagine my identity. My professors and fellow students at the London School of Economics were wonderful—welcoming and respectful. I had more anonymity in London, perhaps due to the fact that I spent most of my waking hours in class or buried in the library. In 2006, I graduated with a master’s in social psychology. My master’s thesis examined social bias in the courtroom and was titled “In Search of the Impartial Juror: An Exploration of Pretrial Publicity and the Third Person Effect.” I liked to joke that I was trading the blue dress for blue stockings, and the degree provided new scaffolding to hang my life experiences on. It would also prove, so I hoped, to be a gateway to a more normal life.\n",
      "I moved between London, Los Angeles, New York, and Portland, Oregon, interviewing for a variety of jobs that fell under the umbrella of “creative communication” and “branding,” with an emphasis on charity campaigns. Yet, because of what potential employers so tactfully referred to as my “history,” I was never “quite right” for the position. In some cases, I was right for all the wrong reasons, as in “Of course, your job would require you to attend our events.” And, of course, these would be events at which press would be in attendance.\n",
      "In one promising job interview that took place during the run-up to the 2008 primary season, the conversation took an interesting turn. “So here’s the thing, Monica,” the interviewer said. “You’re clearly a bright young woman and affable, but for us—and probably any other organization that relies on grants and other government funding—it’s risky. We would first need a Letter of Indemnification from the Clintons. After all, there is a 25 percent chance that Mrs. Clinton will be the next president.” I gave a fake smile and said, “I understand.”\n",
      "Another job interview, this one typical: walked into the stark, terminally cool reception area of a hip-yet-prestigious advertising agency in Los Angeles, my hometown. As always, I put on my best “I’m friendly, not a diva” smile. “Hi. Monica Lewinsky here to see So-and-So.”\n",
      "The twentysomething receptionist pushed her black-rimmed hipster frames up her nose. “Monica who?”\n",
      "Before I could answer, another twentysomething, in skinny jeans, plaid shirt, and bow tie, rushed over and interrupted: “ Ms. Lewinsky.” Like a maître d’, he continued, “Pleasure to have you here. I’ll let So-and-So know you’ve arrived. Soy latte? Green tea? Filtered water?”\n",
      "I found myself sitting at a small round table, face-to-face with So-and-So, the agency’s head of strategy and planning. We talked. She kept wincing. This was not going well. I tried to keep myself from getting flustered. Now she was not only wincing but also clearing her throat. Was that perspiration on her brow? It hit me: she was nervous, in full-tic mode.\n",
      "I’ve had to become adept at handling any number of reactions in social situations and job interviews. I get it: it must be disconcerting to sit across from “That Woman.” Needless to say, I didn’t get the position.\n",
      "I eventually came to realize that traditional employment might not be an option for me. I’ve managed to get by (barely, at times) with my own projects, usually with start-ups that I have participated in, or with loans from friends and family.\n",
      "In another job interview I was asked, “If you were a brand, which brand would you be?” Let me tell you, when you’re Monica Lewinsky, that is one loaded question.\n",
      "In September of 2010, the culmination of these experiences began to snap into a broader context for me. A phone conversation with my mother shifted the lens through which I viewed my world. We were discussing the tragic death of Tyler Clementi. Tyler, you will recall, was an 18-year-old Rutgers freshman who was secretly streamed via Webcam kissing another man. Days later, after being derided and humiliated on social media, he committed suicide by jumping off the George Washington Bridge.\n",
      "My mom wept. Sobbing, she kept repeating over and over, “How his parents must feel … his poor parents.”\n",
      "It was an unbearably tragic event, and while hearing of it brought me to tears, too, I couldn’t quite grasp why my mom was so distraught. And then it dawned on me: she was reliving 1998, when she wouldn’t let me out of her sight. She was replaying those weeks when she stayed by my bed, night after night, because I, too, was suicidal. The shame, the scorn, and the fear that had been thrown at her daughter left her afraid that I would take my own life—a fear that I would be literally humiliated to death. (I have never actually attempted suicide, but I had strong suicidal temptations several times during the investigations and during one or two periods after.)\n",
      "I would never be so presumptuous as to equate my own story with Tyler Clementi’s. After all, my public humiliation had been the result of my involvement with a world-renowned public figure—that is, a consequence of my own poor choices. But in that moment, when I felt the depths of my mother’s anguish, I wished I could have had a chance to have spoken to Tyler about how my love life, my sex life, my most private moments, my most sensitive secrets, had been broadcast around the globe. I wished I had been able to say to him that I knew a little of how it might have felt for him to be exposed before the world. And, as hard as it is to imagine surviving it, it is possible.\n",
      "In the wake of Tyler’s tragedy, my own suffering took on a different meaning. Perhaps by sharing my story, I reasoned, I might be able to help others in their darkest moments of humiliation. The question became: How do I find and give a purpose to my past? It was my Prufrockian moment: “Do I dare / Disturb the universe?” Or, in my case, the Clinton universe.\n",
      "Despite a decade of self-imposed silence, I have been periodically resuscitated as part of the national conversation, almost always in connection with the Clintons. For instance, in January and February of this year, Rand Paul, the Kentucky senator and a possible 2016 Republican presidential aspirant, managed to drag me into the pre-election muck. He fought back against the Democrats’ charges of a G.O.P. “war on women” by arguing that Bill Clinton had committed workplace “violence” and acted in a “predatory” manner against “a 20-year-old girl who was there from college.”\n",
      "Sure, my boss took advantage of me, but I will always remain firm on this point: it was a consensual relationship. Any “abuse” came in the aftermath, when I was made a scapegoat in order to protect his powerful position.\n",
      "So, trying to disappear has not kept me out of the fray. I am, for better or for worse, presumed to be a known quantity. Every day I am recognized. Every day. Sometimes a person will walk past me again and again, as if I wouldn’t notice. (Thankfully, 99.9 percent of the time when strangers do say something to me they are supportive and respectful.) Every day someone mentions me in a tweet or a blog post, and not altogether kindly. Every day, it seems, my name shows up in an op-ed column or a press clip or two—mentioned in passing in articles on subjects as disparate as millennials, Scandal, and French president François Hollande’s love life. Miley Cyrus references me in her twerking stage act, Eminem raps about me, and Beyoncé’s latest hit gives me a shout-out. Thanks, Beyoncé, but if we’re verbing, I think you meant “Bill Clinton’d all on my gown,” not “Monica Lewinsky’d.”\n",
      "With every man I date (yes, I date!), I go through some degree of 1998 whiplash. I need to be extremely circumspect about what it means to be “public” with someone. In the early years post-impeachment, I once left a front-row seat along the third-base line at a Yankees game when I learned that my date—a guy whose company I thoroughly enjoyed—was actually in another relationship. It was only a green-card marriage, but I freaked that we could be photographed together and someone might call the gossip rags. I’ve become adept at figuring out when men are interested in me for the wrong reason. Thankfully, those have been few and far between. But every man that has been special to me over the past 16 years has helped me find another piece of myself—the self that was shattered in 1998. And so, no matter the heartbreak, tears, or disenchantment, I’ll always be grateful to them.\n",
      "In February of this year, around the same time Senator Paul put me back into the unwanted spotlight, I became the “narcissistic loony toon,” the latest twist on Me as Archetype.\n",
      "A snapshot of a scenario I’ve grown all too accustomed to, even as I attempt to move on with my life: A shrill ring interrupts the rhythms of my day. The call—from the doorman of the apartment building where I’m staying in New York—leads me to an exasperated “What? Again?” They’ve reappeared: the paparazzi, like swallows, have returned to the sidewalk outside, pacing and circling and pacing some more.\n",
      "I hit the computer. Time for a little self-Google. (Oh, dear reader, please do not judge.) My heart sinks. There’s an explosion on Google News. I know what this means. Whatever day I’ve planned has been jettisoned. To leave the house—and risk a photo—only ensures that the story will stay alive.\n",
      "The cameras have returned because of the headlines: a conservative Web site has gone poking around the University of Arkansas archive of one of Hillary Clinton’s closest friends and admirers, Diane Blair, and has unearthed a cache of memos from the 1990s. In some of them, Blair, who died in 2000, quotes the former First Lady about her husband’s relationship with me. Though Hillary, according to Blair’s notes, claimed to find her husband’s “lapse” inexcusable, she praised him for trying to “manage someone who was clearly a ‘narcissistic loony toon.’ ”\n",
      "My first thought, as I was getting up to speed: If that’s the worst thing she said, I should be so lucky. Mrs. Clinton, I read, had supposedly confided to Blair that, in part, she blamed herself for her husband’s affair (by being emotionally neglectful) and seemed to forgive him. Although she regarded Bill as having engaged in “gross inappropriate behavior,” the affair was, nonetheless, “consensual (was not a power relationship).”\n",
      "I field the usual calls from friends who lend moral support whenever these volcanic media stories erupt. They diffuse the tension with good-natured teasing: “So, are we changing your monogram to NLT?” I try to ignore the former First Lady’s long-buried comments. Given my experiences with Linda Tripp, I know better than anyone what it’s like to have a conversation with a girlfriend exposed and scrutinized, taken out of context. But, even so, it begins to gnaw at me. I realize that Hillary Clinton was—unlike me when Tripp was prying loose my innermost secrets and insecurities and recording them surreptitiously—fully aware of this documentation: she’s the one who, according to the memos, asked Blair to keep a record or diary of their discussions for archival purposes.\n",
      "Yes, I get it. Hillary Clinton wanted it on record that she was lashing out at her husband’s mistress. She may have faulted her husband for being inappropriate, but I find her impulse to blame the Woman—not only me, but herself—troubling. And all too familiar: with every marital indiscretion that finds its way into the public sphere—many of which involve male politicians—it always seems like the woman conveniently takes the fall. Sure, the Anthony Weiners and Eliot Spitzers do what they need to do to look humiliated on cable news. They bow out of public life for a while, but they inevitably return, having put it all behind them. The women in these imbroglios return to lives that are not so easily repaired.\n",
      "But there is another layer here that is making me bristle: Narcissist? Loony?\n",
      "You might remember that just five days before the world had ever heard my name the F.B.I.—after my friend Linda Tripp approached Special Prosecutor Kenneth Starr’s office with information about my affair with the president—entrapped me in a terrifying “sting” in the Pentagon City mall. At age 24, cornered in a hotel room on January 16, 1998, with mainly male interrogators taking orders from Starr, I was discouraged from contacting my attorney and threatened with 27 years in jail for filing an affidavit denying the affair with Clinton, among other alleged crimes. I was offered immunity from that threat if I agreed to place monitored calls and wear a wire in conversations with two of the president’s confidants and possibly the president himself. I refused. Confiding in Linda Tripp turned into an unintended betrayal. But this? The mother of all betrayals. That, I couldn’t do. Courageous or foolish, maybe, but narcissistic and loony?\n",
      "These 16-year-old descriptions of me triggered memories of past anguish, particularly in the area of women lobbing derision at one another. So where, you might be wondering, were the feminists back then?\n",
      "It’s a question that troubles me to this day.\n",
      "I sorely wished for some sign of understanding from the feminist camp. Some good, old-fashioned, girl-on-girl support was much in need. None came. Given the issues at play—gender politics, sex in the workplace—you’d think they would have spoken up. They didn’t. I understood their dilemma: Bill Clinton had been a president “friendly” to women’s causes.\n",
      "It also didn’t help that my case was not one of conventional “sexual harassment”; that charge against Bill Clinton had been made by Paula Jones, who brought a colossal lawsuit against him. My name surfaced only because, thanks to newly won advances by feminists, investigations of such cases were now allowed to cast a wider net. The Jones case became a stick that the right wing used to strike back at the Clinton-supporting feminists: Why wouldn’t they enthusiastically support an investigation into a case of sexual harassment? What if the president had been a Republican? Charges of hypocrisy flew.\n",
      "A handful of representatives of the modern feminist movement did chime in, obliquely. Yet, instead of any meaningful engagement, we got this: January 30, 1998. Day Nine of the scandal. Cocktails at Le Bernardin, in Manhattan. In attendance: writers Erica Jong, Nancy Friday, Katie Roiphe, and Elizabeth Benedict; Saturday Night Live writer Patricia Marx; Marisa Bowe, the editor of Word, an online magazine; fashion designer Nicole Miller; former dominatrix Susan Shellogg; and their host, Le Bernardin co-owner Maguy Le Coze. The New York Observer brought this coven together to trade Interngate insights, to be recorded by Francine Prose. (Sadly, the gal who would really make this coven complete is missing: Maureen Dowd, or Moremean Dowdy, as I used to refer to her. Today, I’d meet her for a drink.)\n",
      "Oh, to have been at that cocktail party:\n",
      "Marisa Bowe: His whole life is about having to be in control and really intelligent all the time. And his wife is really intelligent and in control all the time. And the idea of just having stupid sex with some not-brilliant woman in the Oval Office, I can see the appeal in that.\n",
      "Imaginary Me: I’m not saying I’m brilliant, but how do you know I’m not? My first job out of college was at the White House.\n",
      "Susan Shellogg: And do you think it’s tremendously selfish? Selfish and demanding, having oral sex and not reciprocating? I mean … she didn’t say, “Well, you know he satisfied me.”\n",
      "Me: And where exactly “didn’t” I say this? In which public statement that I didn’t make? In which testimony that’s not been released?\n",
      "Katie Roiphe: I think what people are outraged about is the way that [Monica Lewinsky] looks, which is interesting. Because we like to think of our presidents as sort of godlike, and so if J.F.K. has an affair with Marilyn Monroe, it’s all in the realm of the demigods…. I mean, the thing I kept hearing over and over again was Monica Lewinsky’s not that pretty.\n",
      "Me: Well, thanks. The first picture that surfaced was a passport photo. Would you like to have a passport photo splattered across publications around the world as the picture that defines you?\n",
      "What you are also saying here is that the primary quality that would qualify a woman to have an intimate relationship with a powerful man is physical attractiveness. If that’s not setting the movement back, I don’t know what is.\n",
      "Erica Jong: My dental hygienist pointed out that she had third-stage gum disease.\n",
      "Shellogg: What do you think will happen to [her]? I mean, she’ll just fade out quietly or write a book? Or people will forget about her six months from now?\n",
      "Nancy Friday: She can rent out her mouth.\n",
      "Me: (Speechless.)\n",
      "Jong: But, you know, men do like to get close to the mouth that has been close to power. Think of the fantasy in the man’s mind as she’s going down on him and he’s thinking, “Oh my God.”\n",
      "Elizabeth Benedict: Do for me what you did to the President. Do that.\n",
      "Me: (Still speechless.)\n",
      "Jong: I think it’s a tribute to how far we’ve come that we’re not trashing Monica Lewinsky.\n",
      "The catty confab appeared under the headline SUPERGALS LOVE THAT NAUGHTY PREZ. (Writing in Vanity Fair, Marjorie Williams called it “the most embarrassing thing I had read in a long time.”) To me, it illustrates a perplexing aspect of the culture of humiliation, one that Phyllis Chesler recognized in her book Woman’s Inhumanity to Woman: that women themselves are not immune to certain kinds of misogyny. We see it today in how the “mean girls” at school lurk on the modern playground of the Web (or around a pundit’s roundtable on TV or at a French restaurant), ever eager to pile on.\n",
      "I still have deep respect for feminism and am thankful for the great strides the movement has made in advancing women’s rights over the past few decades. But, given my experience of being passed around like gender-politics cocktail food, I don’t identify myself as a Feminist, capital F. The movement’s leaders failed in articulating a position that was not essentially anti-woman during the witch hunt of 1998. In the case of the New York Supergals, it should not have been that hard for them to swoon over the president without attacking and shaming me. Instead, they joined the humiliation derby.\n",
      "I , myself, deeply regret what happened between me and President Clinton. Let me say it again: I. Myself. Deeply. Regret. What. Happened. At the time—at least from my point of view—it was an authentic connection, with emotional intimacy, frequent visits, plans made, phone calls and gifts exchanged. In my early 20s, I was too young to understand the real-life consequences, and too young to see that I would be sacrificed for political expediency. I look back now, shake my head in disbelief, and wonder: what was I—what were we—thinking? I would give anything to go back and rewind the tape.\n",
      "Like many other Americans, I’ve been thinking about Hillary Clinton. What might happen, I’ve wondered, if she does run in 2016? And what if she wins—and then wins a second term?\n",
      "But when I think about these matters, there’s a dimension at play for me other than just the fact that we might finally have a woman in the White House. We all remember the second-wave feminist rallying cry The personal is political. Many people (myself included) proclaimed that my relationship with Bill Clinton was a personal matter, not one to be used in a high-stakes political war. When I hear of Hillary’s prospective candidacy, I cannot help but fear the next wave of paparazzi, the next wave of “Where is she now?” stories, the next reference to me in Fox News’s coverage of the primaries. I’ve begun to find it debilitating to plot out the cycle of my life based, to some degree, on the political calendar. For me, it’s a scenario in which the personal and the political are impossible to separate.\n",
      "In 2008, when Hillary was running for president, I remained virtually reclusive, despite being inundated with press requests. I put off announcing several media projects in 2012 until after the election. (They were subsequently canceled—and, no, I wasn’t offered $12 million for a salacious tell-all book, contrary to press reports.) And recently I’ve found myself gun-shy yet again, fearful of “becoming an issue” should she decide to ramp up her campaign. But should I put my life on hold for another 8 to 10 years?\n",
      "Being a conscientious Democrat—and aware that I could be used as a tool for the left or the right—I have remained silent for 10 years. So silent, in fact, that the buzz in some circles has been that the Clintons must have paid me off; why else would I have refrained from speaking out? I can assure you that nothing could be further from the truth.\n",
      "So why speak now? Because it is time.\n",
      "I turned 40 last year, and it is time to stop tiptoeing around my past—and other people’s futures. I am determined to have a different ending to my story. I’ve decided, finally, to stick my head above the parapet so that I can take back my narrative and give a purpose to my past. (What this will cost me, I will soon find out.) Despite what some headlines will falsely report about this piece, this is not about Me versus the Clintons. Their lives have moved on; they occupy important and powerful places on the global stage. I wish them no ill. And I fully understand that what has happened to me and the issue of my future do not matter to either of them.\n",
      "It also goes back to the personal and the political. I have lived many of the questions that have become central to our national discourse since 1998. How far should we allow the government into our bedrooms? How do we reconcile the right to privacy with the need to expose sexual indiscretion? How do we guard against an overzealous government demanding our private data and information? And, most important to me personally, how do we cope with the shame game as it’s played in the Internet Age? (My current goal is to get involved with efforts on behalf of victims of online humiliation and harassment and to start speaking on this topic in public forums.)\n",
      "So far, That Woman has never been able to escape the shadow of that first depiction. I was the Unstable Stalker (a phrase disseminated by the Clinton White House), the Dimwit Floozy, the Poor Innocent who didn’t know any better. The Clinton administration, the special prosecutor’s minions, the political operatives on both sides of the aisle, and the media were able to brand me. And that brand stuck, in part because it was imbued with power. I became a social representation, a social canvas on which anybody could project their confusion about women, sex, infidelity, politics, and body issues.\n",
      "Unlike the other parties involved, I was so young that I had no established identity to which I could return. I didn’t “let this define” me—I simply hadn’t had the life experience to establish my own identity in 1998. If you haven’t figured out who you are, it’s hard not to accept the horrible image of you created by others. (Thus, my compassion for young people who find themselves shamed on the Web.) Despite much self-searching and therapy and exploring of different paths, I remained “stuck” for far too many years.\n",
      "No longer. It’s time to burn the beret and bury the blue dress. And move forward.\n",
      "Will be used in accordance with our Privacy Policy.\n",
      "\n",
      "More from Vanity Fair\n",
      "Contact\n",
      "© 2021 Condé Nast. All rights reserved. Use of this site constitutes acceptance of our User Agreement (updated as of 1/1/21) and Privacy Policy and Cookie Statement (updated as of 1/1/21) and Your California Privacy Rights. Vanity Fair may earn a portion of sales from products that are purchased through our site as part of our Affiliate Partnerships with retailers. The material on this site may not be reproduced, distributed, transmitted, cached or otherwise used, except with the prior written permission of Condé Nast. Ad Choices\n",
      "CN Entertainment\n"
     ]
    }
   ],
   "source": [
    "for the_text in soup.find_all(\"p\"):\n",
    "    print(str(the_text.getText()))"
   ]
  },
  {
   "cell_type": "markdown",
   "id": "national-inclusion",
   "metadata": {},
   "source": [
    "## Exercise 20\n",
    "#### Write a function that takes an ordered list of numbers (a list where the elements are in order from smallest to largest) and another number. The function decides whether or not the given number is inside the list and returns (then prints) an appropriate boolean."
   ]
  },
  {
   "cell_type": "code",
   "execution_count": 2,
   "id": "under-october",
   "metadata": {},
   "outputs": [
    {
     "name": "stdout",
     "output_type": "stream",
     "text": [
      "True\n"
     ]
    }
   ],
   "source": [
    "ordered_list = [1,2,3,4,5,6,7,8,9,10,11,12,13,14,22,35,56,78,88,89,90]\n",
    "\n",
    "def in_list(x, y):\n",
    "    if y in x:\n",
    "        print(True)\n",
    "    else:\n",
    "        print(False)\n",
    "        \n",
    "in_list(ordered_list, 88)\n"
   ]
  },
  {
   "cell_type": "markdown",
   "id": "religious-abortion",
   "metadata": {},
   "source": [
    "#### Repeat the exercise but with binary search"
   ]
  },
  {
   "cell_type": "code",
   "execution_count": 16,
   "id": "sorted-opposition",
   "metadata": {},
   "outputs": [
    {
     "data": {
      "text/plain": [
       "18"
      ]
     },
     "execution_count": 16,
     "metadata": {},
     "output_type": "execute_result"
    }
   ],
   "source": [
    "def binary_search(num_list, y):\n",
    "    begin_index = 0\n",
    "    end_index = len(num_list)-1\n",
    "    while begin_index <= end_index:\n",
    "        midpoint = begin_index + (end_index - begin_index)//2\n",
    "        midpoint_value = num_list[midpoint]\n",
    "        if midpoint_value == y:\n",
    "            return midpoint\n",
    "        elif y < midpoint:\n",
    "            end_index = midpoint-1\n",
    "        else:\n",
    "            begin_index = midpoint+1\n",
    "    return None\n",
    "\n",
    "\n",
    "binary_search(ordered_list, 88)"
   ]
  },
  {
   "cell_type": "code",
   "execution_count": 12,
   "id": "alien-butter",
   "metadata": {},
   "outputs": [
    {
     "name": "stdout",
     "output_type": "stream",
     "text": [
      "77 is not in the list.\n"
     ]
    }
   ],
   "source": [
    "def binary_search2(given_list, num):\n",
    "    begin_index = 0\n",
    "    end_index = len(given_list) - 1\n",
    "    \n",
    "    while begin_index <= end_index:\n",
    "        midpoint = (begin_index + end_index) //2\n",
    "        midpoint_index = given_list[midpoint]\n",
    "        if num == midpoint_index:\n",
    "            print(f'{num} is located at position {midpoint} in the list.')\n",
    "            break\n",
    "        elif num < midpoint_index:\n",
    "            end_index = midpoint -1\n",
    "        elif num not in given_list:\n",
    "            print(f'{num} is not in the list.')\n",
    "            break\n",
    "        else:\n",
    "            begin_index = midpoint + 1\n",
    "        \n",
    "\n",
    "\n",
    "binary_search2(ordered_list, 77)"
   ]
  },
  {
   "cell_type": "markdown",
   "id": "canadian-quarter",
   "metadata": {},
   "source": [
    "## Exercise 21\n",
    "#### run beautifulsoup and requests, saving everything to a text file."
   ]
  },
  {
   "cell_type": "code",
   "execution_count": 21,
   "id": "hourly-registration",
   "metadata": {},
   "outputs": [],
   "source": [
    "from bs4 import BeautifulSoup\n",
    "import requests\n",
    "\n",
    "source = requests.get('https://www.vanityfair.com/style/society/2014/06/monica-lewinsky-humiliation-culture').text\n",
    "soup = BeautifulSoup(source, 'lxml')\n",
    "\n",
    "article_text = open('article_text.txt', 'w')\n",
    "\n",
    "article = soup.find(class_=\"content-header__row content-header__hed\")\n",
    "sub_article = soup.find(class_= \"content-header__row content-header__dek\")\n",
    "for body_text in soup.find_all(class_ = \"grid--item body body__container article__body grid-layout__content\"):\n",
    "    body = body_text.text\n",
    "    \n",
    "article_text.write(article.text + '\\n')\n",
    "article_text.write(sub_article.text + '\\n')\n",
    "article_text.write(body)\n",
    "    \n",
    "article_text.close()"
   ]
  },
  {
   "cell_type": "markdown",
   "id": "cardiac-polish",
   "metadata": {},
   "source": [
    "## Exercise 22\n",
    "open a text file and count the occurences of each word"
   ]
  },
  {
   "cell_type": "code",
   "execution_count": 58,
   "id": "consistent-obligation",
   "metadata": {},
   "outputs": [
    {
     "name": "stdout",
     "output_type": "stream",
     "text": [
      "{'shame': 2, 'and': 31, 'survival': 1, 'she': 11, 'tried': 4, 'public': 2, 'appearances.': 1, 'being': 3, 'reclusive.': 1, 'leaving': 1, 'the': 78, 'country,': 1, 'finding': 1, 'a': 27, 'job.': 1, 'but': 3, 'epic': 1, 'humiliation': 3, 'of': 27, '1998,': 1, 'when': 4, 'her': 5, 'affair': 1, 'with': 9, 'bill': 2, 'clinton': 4, 'became': 2, 'an': 5, 'all-consuming': 1, 'story,': 1, 'has': 6, 'followed': 1, 'monica': 2, 'lewinsky': 2, 'every': 1, 'day.': 1, 'after': 2, '10': 3, 'years': 1, 'self-imposed': 1, 'reticence,': 1, 'now': 1, 'hoping': 1, 'to': 46, 'help': 2, 'victims': 2, 'internet': 2, 'shaming,': 1, 'critiques': 1, 'culture': 2, 'that': 27, 'put': 3, '24-year-old': 1, 'through': 1, 'wringer': 1, 'calls': 2, 'out': 6, 'feminists': 1, 'who': 4, 'joined': 2, 'chorus.': 1, 'me:': 1, 'well,': 1, 'thanks.': 1, 'first': 2, 'picture': 2, 'surfaced': 1, 'was': 10, 'passport': 2, 'photo.': 1, 'would': 5, 'you': 9, 'like': 3, 'have': 12, 'photo': 1, 'splattered': 1, 'across': 1, 'publications': 1, 'around': 4, 'world': 1, 'as': 5, 'defines': 1, 'you?what': 1, 'are': 3, 'also': 2, 'saying': 1, 'here': 1, 'is': 9, 'primary': 1, 'quality': 1, 'qualify': 1, 'woman': 3, 'intimate': 1, 'relationship': 2, 'powerful': 2, 'man': 1, 'physical': 1, 'attractiveness.': 1, 'if': 4, 'that’s': 1, 'not': 9, 'setting': 1, 'movement': 2, 'back,': 1, 'i': 32, 'don’t': 2, 'know': 2, 'what': 9, 'is.erica': 1, 'jong:': 1, 'my': 17, 'dental': 1, 'hygienist': 1, 'pointed': 1, 'had': 4, 'third-stage': 1, 'gum': 1, 'disease.shellogg:': 1, 'do': 8, 'think': 4, 'will': 5, 'happen': 1, '[her]?': 1, 'mean,': 1, 'she’ll': 1, 'just': 2, 'fade': 1, 'quietly': 1, 'or': 4, 'write': 1, 'book?': 1, 'people': 3, 'forget': 1, 'about': 6, 'six': 1, 'months': 1, 'from': 4, 'now?nancy': 1, 'friday:': 1, 'can': 3, 'rent': 1, 'mouth.me:': 1, '(speechless.)jong:': 1, 'but,': 2, 'know,': 1, 'men': 1, 'get': 2, 'close': 2, 'mouth': 1, 'been': 5, 'power.': 2, 'fantasy': 1, 'in': 22, 'man’s': 1, 'mind': 1, 'she’s': 1, 'going': 1, 'down': 1, 'on': 11, 'him': 1, 'he’s': 1, 'thinking,': 1, '“oh': 1, 'god.”elizabeth': 1, 'benedict:': 1, 'for': 14, 'me': 9, 'did': 1, 'president.': 1, 'that.me:': 1, '(still': 1, 'speechless.)jong:': 1, 'it’s': 5, 'tribute': 1, 'how': 6, 'far': 3, 'we’ve': 1, 'come': 1, 'we’re': 1, 'trashing': 1, 'lewinsky.the': 1, 'catty': 1, 'confab': 1, 'appeared': 1, 'under': 1, 'headline': 1, 'supergals': 1, 'love': 1, 'naughty': 1, 'prez.': 1, '(writing': 1, 'vanity': 1, 'fair,': 1, 'marjorie': 1, 'williams': 1, 'called': 1, 'it': 9, '“the': 1, 'most': 2, 'embarrassing': 1, 'thing': 1, 'read': 1, 'long': 1, 'time.”)': 1, 'me,': 3, 'illustrates': 1, 'perplexing': 1, 'aspect': 1, 'humiliation,': 1, 'one': 2, 'phyllis': 1, 'chesler': 1, 'recognized': 1, 'book': 1, 'woman’s': 1, 'inhumanity': 1, 'woman:': 1, 'women': 1, 'themselves': 2, 'immune': 1, 'certain': 1, 'kinds': 1, 'misogyny.': 1, 'we': 7, 'see': 2, 'today': 1, '“mean': 1, 'girls”': 1, 'at': 4, 'school': 1, 'lurk': 1, 'modern': 1, 'playground': 1, 'web': 1, '(or': 1, 'pundit’s': 1, 'roundtable': 1, 'tv': 1, 'french': 1, 'restaurant),': 1, 'ever': 1, 'eager': 1, 'pile': 1, 'on.i': 1, 'still': 1, 'deep': 1, 'respect': 1, 'feminism': 1, 'am': 2, 'thankful': 1, 'great': 1, 'strides': 1, 'made': 1, 'advancing': 1, 'women’s': 1, 'rights': 1, 'over': 2, 'past': 1, 'few': 1, 'decades.': 1, 'given': 1, 'experience': 2, 'passed': 1, 'gender-politics': 1, 'cocktail': 1, 'food,': 1, 'identify': 1, 'myself': 2, 'feminist,': 1, 'capital': 1, 'f.': 1, 'movement’s': 1, 'leaders': 1, 'failed': 1, 'articulating': 1, 'position': 1, 'essentially': 1, 'anti-woman': 1, 'during': 1, 'witch': 1, 'hunt': 1, '1998.': 3, 'case': 1, 'new': 1, 'york': 1, 'supergals,': 1, 'should': 4, 'hard': 2, 'them': 2, 'swoon': 1, 'president': 2, 'without': 1, 'attacking': 1, 'shaming': 1, 'me.': 2, 'instead,': 1, 'they': 2, 'derby.i': 1, ',': 1, 'myself,': 1, 'deeply': 1, 'regret': 1, 'happened': 2, 'between': 1, 'clinton.': 2, 'let': 1, 'say': 1, 'again:': 1, 'i.': 1, 'myself.': 1, 'deeply.': 1, 'regret.': 1, 'what.': 1, 'happened.': 1, 'time—at': 1, 'least': 1, 'point': 1, 'view—it': 1, 'authentic': 1, 'connection,': 1, 'emotional': 1, 'intimacy,': 1, 'frequent': 1, 'visits,': 1, 'plans': 1, 'made,': 1, 'phone': 1, 'gifts': 1, 'exchanged.': 1, 'early': 1, '20s,': 1, 'too': 3, 'young': 4, 'understand': 2, 'real-life': 1, 'consequences,': 1, 'be': 4, 'sacrificed': 1, 'political': 5, 'expediency.': 1, 'look': 1, 'back': 4, 'now,': 1, 'shake': 1, 'head': 2, 'disbelief,': 1, 'wonder:': 1, 'i—what': 1, 'were': 3, 'we—thinking?': 1, 'give': 2, 'anything': 1, 'go': 1, 'rewind': 1, 'tape.like': 1, 'many': 4, 'other': 4, 'americans,': 1, 'i’ve': 5, 'thinking': 1, 'hillary': 2, 'might': 2, 'happen,': 1, 'wondered,': 1, 'does': 1, 'run': 1, '2016?': 1, 'wins—and': 1, 'then': 1, 'wins': 1, 'second': 1, 'term?but': 1, 'these': 1, 'matters,': 1, 'there’s': 1, 'dimension': 1, 'play': 1, 'than': 1, 'fact': 1, 'finally': 1, 'white': 2, 'house.': 1, 'all': 1, 'remember': 1, 'second-wave': 1, 'feminist': 1, 'rallying': 1, 'cry': 1, 'personal': 4, 'political.': 2, '(myself': 1, 'included)': 1, 'proclaimed': 1, 'matter,': 1, 'used': 2, 'high-stakes': 1, 'war.': 1, 'hear': 1, 'hillary’s': 1, 'prospective': 1, 'candidacy,': 1, 'cannot': 1, 'fear': 1, 'next': 3, 'wave': 2, 'paparazzi,': 1, '“where': 1, 'now?”': 1, 'stories,': 1, 'reference': 1, 'fox': 1, 'news’s': 1, 'coverage': 1, 'primaries.': 1, 'begun': 1, 'find': 3, 'debilitating': 1, 'plot': 1, 'cycle': 1, 'life': 3, 'based,': 1, 'some': 3, 'degree,': 1, 'calendar.': 1, 'scenario': 1, 'which': 3, 'impossible': 1, 'separate.in': 1, '2008,': 1, 'running': 1, 'president,': 1, 'remained': 3, 'virtually': 1, 'reclusive,': 1, 'despite': 3, 'inundated': 1, 'press': 2, 'requests.': 1, 'off': 1, 'announcing': 1, 'several': 1, 'media': 2, 'projects': 1, '2012': 1, 'until': 1, 'election.': 1, '(they': 1, 'subsequently': 1, 'canceled—and,': 1, 'no,': 1, 'wasn’t': 1, 'offered': 1, '$12': 1, 'million': 1, 'salacious': 1, 'tell-all': 1, 'book,': 1, 'contrary': 1, 'reports.)': 1, 'recently': 1, 'found': 1, 'gun-shy': 1, 'yet': 1, 'again,': 1, 'fearful': 1, '“becoming': 1, 'issue”': 1, 'decide': 1, 'ramp': 1, 'up': 1, 'campaign.': 1, 'hold': 1, 'another': 1, '8': 1, 'years?being': 1, 'conscientious': 1, 'democrat—and': 1, 'aware': 1, 'could': 4, 'tool': 1, 'left': 1, 'right—i': 1, 'silent': 1, 'years.': 1, 'so': 3, 'silent,': 1, 'fact,': 1, 'buzz': 1, 'circles': 1, 'clintons': 1, 'must': 1, 'paid': 1, 'off;': 1, 'why': 2, 'else': 1, 'refrained': 1, 'speaking': 2, 'out?': 1, 'assure': 1, 'nothing': 1, 'further': 1, 'truth.so': 1, 'speak': 1, 'now?': 1, 'because': 2, 'time.i': 1, 'turned': 1, '40': 1, 'last': 1, 'year,': 1, 'time': 2, 'stop': 1, 'tiptoeing': 1, 'past—and': 1, 'people’s': 1, 'futures.': 1, 'determined': 1, 'different': 2, 'ending': 1, 'story.': 1, 'decided,': 1, 'finally,': 1, 'stick': 1, 'above': 1, 'parapet': 1, 'take': 1, 'narrative': 1, 'purpose': 1, 'past.': 1, '(what': 1, 'this': 5, 'cost': 1, 'soon': 1, 'out.)': 1, 'headlines': 1, 'falsely': 1, 'report': 1, 'piece,': 1, 'versus': 1, 'clintons.': 1, 'their': 2, 'lives': 1, 'moved': 1, 'on;': 1, 'occupy': 1, 'important': 2, 'places': 1, 'global': 1, 'stage.': 1, 'wish': 1, 'no': 2, 'ill.': 1, 'fully': 1, 'issue': 1, 'future': 1, 'matter': 1, 'either': 1, 'them.it': 1, 'goes': 1, 'lived': 1, 'questions': 1, 'become': 1, 'central': 1, 'our': 3, 'national': 1, 'discourse': 1, 'since': 1, 'allow': 1, 'government': 2, 'into': 1, 'bedrooms?': 1, 'reconcile': 1, 'right': 1, 'privacy': 1, 'need': 1, 'expose': 1, 'sexual': 1, 'indiscretion?': 1, 'guard': 1, 'against': 1, 'overzealous': 1, 'demanding': 1, 'private': 1, 'data': 1, 'information?': 1, 'and,': 1, 'personally,': 1, 'cope': 1, 'game': 1, 'played': 1, 'age?': 1, '(my': 1, 'current': 1, 'goal': 1, 'involved': 1, 'efforts': 1, 'behalf': 1, 'online': 1, 'harassment': 1, 'start': 1, 'topic': 1, 'forums.)so': 1, 'far,': 1, 'never': 1, 'able': 2, 'escape': 1, 'shadow': 1, 'depiction.': 1, 'unstable': 1, 'stalker': 1, '(a': 1, 'phrase': 1, 'disseminated': 1, 'by': 2, 'house),': 1, 'dimwit': 1, 'floozy,': 1, 'poor': 1, 'innocent': 1, 'didn’t': 2, 'any': 1, 'better.': 1, 'administration,': 1, 'special': 1, 'prosecutor’s': 1, 'minions,': 1, 'operatives': 1, 'both': 1, 'sides': 1, 'aisle,': 1, 'brand': 2, 'stuck,': 1, 'part': 1, 'imbued': 1, 'social': 2, 'representation,': 1, 'canvas': 1, 'anybody': 1, 'project': 1, 'confusion': 1, 'women,': 1, 'sex,': 1, 'infidelity,': 1, 'politics,': 1, 'body': 1, 'issues.unlike': 1, 'parties': 1, 'involved,': 1, 'established': 1, 'identity': 2, 'return.': 1, '“let': 1, 'define”': 1, 'me—i': 1, 'simply': 1, 'hadn’t': 1, 'establish': 1, 'own': 1, 'haven’t': 1, 'figured': 1, 'are,': 1, 'accept': 1, 'horrible': 1, 'image': 1, 'created': 1, 'others.': 1, '(thus,': 1, 'compassion': 1, 'shamed': 1, 'web.)': 1, 'much': 1, 'self-searching': 1, 'therapy': 1, 'exploring': 1, 'paths,': 1, '“stuck”': 1, 'years.no': 1, 'longer.': 1, 'burn': 1, 'beret': 1, 'bury': 1, 'blue': 1, 'dress.': 1, 'move': 1, 'forward.monica': 1, 'back1': 1, '/': 1, '5chevronchevron': 1}\n"
     ]
    }
   ],
   "source": [
    "#with open('Training_01.txt', 'r') as openfile:\n",
    " #   text = [x.strip('\\n') for x in openfile.readlines()]\n",
    "    \n",
    "#count = dict((x, text.count(x)) for x in set(text))\n",
    "#print(count)\n",
    "\n",
    "counter_dict = {}\n",
    "text = open('article_text.txt', 'r')\n",
    "\n",
    "for line in text:\n",
    "    line = line.strip()\n",
    "    line = line.lower()\n",
    "    words = line.split(\" \")\n",
    "    for word in words:\n",
    "        if word in counter_dict:\n",
    "            counter_dict[word] += 1\n",
    "        else:\n",
    "            counter_dict[word] = 1\n",
    "print(counter_dict)\n"
   ]
  },
  {
   "cell_type": "code",
   "execution_count": null,
   "id": "outer-details",
   "metadata": {},
   "outputs": [],
   "source": []
  }
 ],
 "metadata": {
  "kernelspec": {
   "display_name": "Python 3",
   "language": "python",
   "name": "python3"
  },
  "language_info": {
   "codemirror_mode": {
    "name": "ipython",
    "version": 3
   },
   "file_extension": ".py",
   "mimetype": "text/x-python",
   "name": "python",
   "nbconvert_exporter": "python",
   "pygments_lexer": "ipython3",
   "version": "3.9.2"
  }
 },
 "nbformat": 4,
 "nbformat_minor": 5
}
