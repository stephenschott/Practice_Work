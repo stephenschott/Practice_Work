{
 "cells": [
  {
   "cell_type": "markdown",
   "id": "relevant-binding",
   "metadata": {},
   "source": [
    "## Exercise 18\n",
    "#### Create a program that will play the “cows and bulls” game with the user. The game works like this:\n",
    "#### Randomly generate a 4-digit number. Ask the user to guess a 4-digit number. For every digit that the user guessed correctly in the correct place, they have a “cow”. For every digit the user guessed correctly in the wrong place is a “bull.” Every time the user makes a guess, tell them how many “cows” and “bulls” they have. Once the user guesses the correct number, the game is over. Keep track of the number of guesses the user makes throughout teh game and tell the user at the end."
   ]
  },
  {
   "cell_type": "code",
   "execution_count": 6,
   "id": "handmade-inquiry",
   "metadata": {},
   "outputs": [
    {
     "name": "stdout",
     "output_type": "stream",
     "text": [
      "[1 2 7 1]\n"
     ]
    }
   ],
   "source": [
    "import numpy as np\n",
    "\n",
    "number = np.random.randint(0, 10, 4)\n",
    "\n",
    "\n",
    "guess = int(input(\"Guess the correct digits in order: \"))\n",
    "if len(guess)== 4 and guess.isnumeric == True:\n",
    "    i=0\n",
    "    cow = 0\n",
    "    bull = 0\n",
    "    while i <= 3\n",
    "    guess = list(guess)\n",
    "    for x in number:\n",
    "        if guess[i] == number[i]:\n",
    "            cow += 1\n",
    "            if cow == 4:\n",
    "                print(\"Congratulations! You got it!\")\n",
    "        elif guess[i] != number[i] and guess[i] == number[range(0, 4)]:\n",
    "                bull += 1\n",
    "        else:\n",
    "            print(f'You have {cow} cows and {bull} bulls. Try again!)\n",
    "                i+=1\n",
    "        "
   ]
  },
  {
   "cell_type": "code",
   "execution_count": 7,
   "id": "modular-tender",
   "metadata": {},
   "outputs": [
    {
     "name": "stdout",
     "output_type": "stream",
     "text": [
      "__main__\n"
     ]
    }
   ],
   "source": [
    "print(__name__)"
   ]
  },
  {
   "cell_type": "code",
   "execution_count": 8,
   "id": "postal-crowd",
   "metadata": {},
   "outputs": [
    {
     "name": "stdout",
     "output_type": "stream",
     "text": [
      "__main__\n"
     ]
    }
   ],
   "source": [
    "print('__main__')"
   ]
  },
  {
   "cell_type": "code",
   "execution_count": null,
   "id": "together-supplement",
   "metadata": {},
   "outputs": [],
   "source": []
  }
 ],
 "metadata": {
  "kernelspec": {
   "display_name": "Python 3",
   "language": "python",
   "name": "python3"
  },
  "language_info": {
   "codemirror_mode": {
    "name": "ipython",
    "version": 3
   },
   "file_extension": ".py",
   "mimetype": "text/x-python",
   "name": "python",
   "nbconvert_exporter": "python",
   "pygments_lexer": "ipython3",
   "version": "3.9.2"
  }
 },
 "nbformat": 4,
 "nbformat_minor": 5
}
