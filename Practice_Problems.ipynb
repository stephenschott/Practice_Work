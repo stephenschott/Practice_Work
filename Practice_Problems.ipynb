{
 "cells": [
  {
   "cell_type": "code",
   "execution_count": 25,
   "metadata": {},
   "outputs": [
    {
     "name": "stdout",
     "output_type": "stream",
     "text": [
      "Give me your name: Stephen\n",
      "Enter your age please: 36\n",
      "How many copies of this message would you like? 3\n",
      "Hi Stephen! You are currently 36, and will be 100 in 2085.\n",
      "Hi Stephen! You are currently 36, and will be 100 in 2085.\n",
      "Hi Stephen! You are currently 36, and will be 100 in 2085.\n",
      "\n"
     ]
    }
   ],
   "source": [
    "name = input(\"Give me your name: \")\n",
    "age = int(input(\"Enter your age please: \"))\n",
    "copies = int(input(\"How many copies of this message would you like? \"))\n",
    "\n",
    "import datetime\n",
    "now = datetime.datetime.now()\n",
    "now = int(now.year)\n",
    "end_year = str(100 - age + now)\n",
    "\n",
    "\n",
    "print((\"Hi \" + name + \"! You are currently \" + str(age) + \", and will be 100 in \" + end_year + \".\" + '\\n') * copies) "
   ]
  },
  {
   "cell_type": "code",
   "execution_count": 30,
   "metadata": {},
   "outputs": [
    {
     "name": "stdout",
     "output_type": "stream",
     "text": [
      "Enter your number: 14\n",
      "You gave an even number!\n"
     ]
    }
   ],
   "source": [
    "number = int(input(\"Enter your number: \"))\n",
    "\n",
    "def odd_or_even(number):\n",
    "    if number % 2 == 0 and number % 4 != 0:\n",
    "        print(\"You gave an even number!\")\n",
    "    elif number % 4 == 0:\n",
    "        print(\"Your number is even and also divisible by 4!\")\n",
    "    else:\n",
    "        print(\"You gave an odd number!\")\n",
    "        \n",
    "odd_or_even(number)"
   ]
  },
  {
   "cell_type": "code",
   "execution_count": 33,
   "metadata": {},
   "outputs": [
    {
     "name": "stdout",
     "output_type": "stream",
     "text": [
      "Enter your number: 135638\n",
      "Enter your divisor: 450\n",
      "135638 is not divisible by 450!\n"
     ]
    }
   ],
   "source": [
    "number = int(input(\"Enter your number: \"))\n",
    "divisor = int(input(\"Enter your divisor: \"))\n",
    "\n",
    "def odd_or_even(number, divisor):\n",
    "    if number % divisor == 0:\n",
    "        print(str(number) + \" is divisible by \" + str(divisor) + \"!\")\n",
    "    else:\n",
    "        print(str(number) +\" is not divisible by \" + str(divisor) + \"!\")\n",
    "        \n",
    "odd_or_even(number, divisor)"
   ]
  },
  {
   "cell_type": "code",
   "execution_count": 38,
   "metadata": {},
   "outputs": [
    {
     "name": "stdout",
     "output_type": "stream",
     "text": [
      "Enter a number: 600\n",
      "Enter a divisor: 6\n",
      "600 is divisible by 6!\n"
     ]
    }
   ],
   "source": [
    "number = int(input(\"Enter a number: \"))\n",
    "divisor = int(input(\"Enter a divisor: \"))\n",
    "\n",
    "if number % divisor != 0:\n",
    "    print(str(number) + \" is not divisible by \" + str(divisor) + \"!\")\n",
    "elif number % divisor == 0:\n",
    "    print(str(number) + \" is divisible by \" + str(divisor) + \"!\")\n"
   ]
  },
  {
   "cell_type": "markdown",
   "metadata": {},
   "source": [
    "## Exercise 3"
   ]
  },
  {
   "cell_type": "code",
   "execution_count": 77,
   "metadata": {},
   "outputs": [
    {
     "name": "stdout",
     "output_type": "stream",
     "text": [
      "[1, 3, 5, 7, 9, 11, 13]\n"
     ]
    }
   ],
   "source": [
    "my_list = [1, 3, 5, 7, 9, 11, 13, 15, 17, 19]\n",
    "\n",
    "new_list = []\n",
    "for x in my_list:\n",
    "    if(x < 15):\n",
    "        new_list.append(x)\n",
    "        \n",
    "print(new_list)"
   ]
  },
  {
   "cell_type": "markdown",
   "metadata": {},
   "source": [
    "### Exercises 3.2 and 3.3"
   ]
  },
  {
   "cell_type": "code",
   "execution_count": 79,
   "metadata": {},
   "outputs": [
    {
     "data": {
      "text/plain": [
       "[1, 3, 5, 7, 9, 11, 13]"
      ]
     },
     "execution_count": 79,
     "metadata": {},
     "output_type": "execute_result"
    }
   ],
   "source": [
    "my_list = [ 1, 3, 5, 7, 9, 11, 13, 15, 17, 19]\n",
    "\n",
    "[x for x in my_list if x < 15]"
   ]
  },
  {
   "cell_type": "code",
   "execution_count": 81,
   "metadata": {},
   "outputs": [
    {
     "name": "stdout",
     "output_type": "stream",
     "text": [
      "Enter a number and all numbers less than the number you enter will return: 17\n",
      "[1, 3, 5, 7, 9, 11, 13, 15]\n"
     ]
    }
   ],
   "source": [
    "my_list = [ 1, 3, 5, 7, 9, 11, 13, 15, 17, 19]\n",
    "\n",
    "user_input = int(input(\"Enter a number and all numbers less than the number you enter will return: \"))\n",
    "\n",
    "new_list = [x for x in my_list if x < user_input]\n",
    "print(new_list)"
   ]
  },
  {
   "cell_type": "markdown",
   "metadata": {},
   "source": [
    "## Exercise 4!"
   ]
  },
  {
   "cell_type": "code",
   "execution_count": 181,
   "metadata": {},
   "outputs": [
    {
     "name": "stdout",
     "output_type": "stream",
     "text": [
      "Enter a number: g\n",
      "Please enter a number.\n"
     ]
    }
   ],
   "source": [
    "#Ask user for a number and return a list of all of its divisors\n",
    "#user_num = int(input(\"Enter a number: \"))\n",
    "user_num = (input(\"Enter a number: \"))\n",
    "\n",
    "if user_num.isnumeric() == False:\n",
    "    print(\"Please enter a number.\")\n",
    "elif int(user_num) < 0:\n",
    "    print(\"please enter a number that is greater than 0\")\n",
    "else:\n",
    "    divisor_list = range(1, int(user_num))\n",
    "    output = [x for x in divisor_list if int(user_num) % x == 0]\n",
    "    print(str(user_num) + \" is divisible by \" + str(output) + \"!\")\n",
    "            \n"
   ]
  },
  {
   "cell_type": "code",
   "execution_count": 187,
   "metadata": {},
   "outputs": [
    {
     "name": "stdout",
     "output_type": "stream",
     "text": [
      "Enter a number: g\n",
      "Please enter a number.\n"
     ]
    }
   ],
   "source": [
    "user_num = input(\"Enter a number: \")\n",
    "\n",
    "def get_divisors(user_num):\n",
    "    if user_num.isnumeric() == False: \n",
    "        print(\"Please enter a number.\")\n",
    "    elif int(user_num) < 1:\n",
    "        print(\"Please enter a number that is greater than 0.\")\n",
    "    else:\n",
    "        divisor_list = range(1, int(user_num))\n",
    "        output = [x for x in divisor_list if int(user_num) % x == 0]\n",
    "        print(str(user_num) + \" is divisible by \" + str(output) + \"!\")\n",
    "\n",
    "get_divisors(user_num)"
   ]
  },
  {
   "cell_type": "markdown",
   "metadata": {},
   "source": [
    "## Exercise 5"
   ]
  },
  {
   "cell_type": "code",
   "execution_count": 197,
   "metadata": {},
   "outputs": [
    {
     "name": "stdout",
     "output_type": "stream",
     "text": [
      "[2, 4, 6, 8, 10]\n"
     ]
    }
   ],
   "source": [
    "#Create two lists and output a new list that is comprised of the numbers that the two original lists share. no repeats.\n",
    "first_list = [1, 2, 3, 4, 5, 6, 7, 8, 9, 10, 2, 2]\n",
    "second_list = [2, 4, 6, 8, 10, 12, 14, 2, 2]\n",
    "\n",
    "combo_list = set([x for x in first_list if x in second_list])\n",
    "combo_list = [x for x in combo_list]\n",
    "\n",
    "print(combo_list)"
   ]
  },
  {
   "cell_type": "markdown",
   "metadata": {},
   "source": [
    "### Exercise 5.1"
   ]
  },
  {
   "cell_type": "code",
   "execution_count": 9,
   "metadata": {},
   "outputs": [
    {
     "name": "stdout",
     "output_type": "stream",
     "text": [
      "list 1: [32 13 13 35 16 26 34 36 36  7  9  8 18  6  4 16 11  4  4  7]\n",
      "list 2: [28 14 13 48  5 14  9 46 39 35 42 19 26 26  7 25 44 33 29 22 32 43 35 10\n",
      " 49]\n",
      "The common number values are: [32, 35, 7, 9, 13, 26]\n"
     ]
    }
   ],
   "source": [
    "# randomly generated lists, repeate the combo list with no repeats\n",
    "import numpy as np\n",
    "\n",
    "random_list_1 = np.random.randint(0, 40, 20)\n",
    "random_list_2 = np.random.randint(5, 50, 25)\n",
    "\n",
    "combo_list = set([x for x in random_list_1 if x in random_list_2])\n",
    "combo_list = [x for x in combo_list]\n",
    "\n",
    "print(\"list 1: {}\".format(random_list_1))\n",
    "print(\"list 2: {}\".format(random_list_2))\n",
    "print(\"The common number values are: {}\".format(combo_list))"
   ]
  },
  {
   "cell_type": "code",
   "execution_count": 12,
   "metadata": {},
   "outputs": [
    {
     "name": "stdout",
     "output_type": "stream",
     "text": [
      "[8, 19, 7]\n",
      "list 1: [17 17  7 19 19  8  1  2  4 17]\n",
      "list 2: [ 7 18  8 10 16 19 19 14 13 13  8 13  6  5 11]\n"
     ]
    }
   ],
   "source": [
    "rand_list1 = np.random.randint(1, 20, 10)\n",
    "rand_list2 = np.random.randint(5, 20, 15)\n",
    "#printing x if it's in both lists, turning the list into a set to prevent printing same values multiple times, and\n",
    "# turning the set back into a list\n",
    "\n",
    "print(list(set(x for x in rand_list1 if x in rand_list2)))\n",
    "print(\"list 1: {}\".format(rand_list1))\n",
    "print(\"list 2: {}\".format(rand_list2))"
   ]
  },
  {
   "cell_type": "markdown",
   "metadata": {},
   "source": [
    "## Exercise 6"
   ]
  },
  {
   "cell_type": "code",
   "execution_count": 1,
   "metadata": {},
   "outputs": [
    {
     "name": "stdout",
     "output_type": "stream",
     "text": [
      "Enter a word: whattahw\n",
      "Wow! That's a palindrome!\n"
     ]
    }
   ],
   "source": [
    "#get user input and identify if it's a palindrome (same word spelled backwards)\n",
    "\n",
    "word = input(\"Enter a word: \")\n",
    "\n",
    "while len(word) > 2:\n",
    "    if word.lower() == word[::-1].lower():\n",
    "        print(\"Wow! That's a palindrome!\")\n",
    "    else:\n",
    "        print(\"Cool word... even if it's not a palindrome.\")\n",
    "    break\n",
    "else:\n",
    "    print(\"Please enter a longer word kay?\")"
   ]
  },
  {
   "cell_type": "markdown",
   "metadata": {},
   "source": [
    "## Exercise 7"
   ]
  },
  {
   "cell_type": "code",
   "execution_count": 17,
   "metadata": {},
   "outputs": [
    {
     "name": "stdout",
     "output_type": "stream",
     "text": [
      "[2, 4, 6, 8, 10, 12]\n"
     ]
    }
   ],
   "source": [
    "#a list is given, write one line of code that gives back only the even elements\n",
    "list_a = [1, 2, 3, 4, 5, 6, 7, 8, 9, 10, 11, 12]\n",
    "\n",
    "print([x for x in list_a if x % 2 == 0])\n",
    "#it didn't technically ask for it to be stored as a variable so I didn't create one, which will save memory/storage"
   ]
  },
  {
   "cell_type": "markdown",
   "metadata": {},
   "source": [
    "## Exercise 8"
   ]
  },
  {
   "cell_type": "code",
   "execution_count": 24,
   "metadata": {},
   "outputs": [
    {
     "name": "stdout",
     "output_type": "stream",
     "text": [
      "Player 1: Enter rock, paper, or scissors: paper\n",
      "Player 2: Enter rock, paper, or scissors: rock\n",
      "Player 1 wins!\n",
      "Do you want to play again? Enter yes or no: no\n"
     ]
    }
   ],
   "source": [
    "#two players input rock, paper, or scissors. print winner message and ask if they want to play again\n",
    "\n",
    "while True:\n",
    "    player1 = input(\"Player 1: Enter rock, paper, or scissors: \")\n",
    "    player2 = input(\"Player 2: Enter rock, paper, or scissors: \")\n",
    "    if player1 == \"rock\" and player2 == \"scissors\" or player1 == \"scissors\" and player2 == \"paper\" or player1 == \"paper\" and player2 == \"rock\":\n",
    "        print(\"Player 1 wins!\")\n",
    "        play_again = input(\"Do you want to play again? Enter yes or no: \")\n",
    "        if play_again == \"yes\":\n",
    "            continue\n",
    "        else:\n",
    "            break\n",
    "    elif player1 == player2:\n",
    "        print(\"The result is a draw!\")\n",
    "        play_again = input(\"Do you want to play again? Enter yes or no: \")\n",
    "        if play_again == \"yes\":\n",
    "            continue\n",
    "        else:\n",
    "            break\n",
    "    elif player1 != \"rock\" or player1 != \"paper\" or player1 != \"scissors\" or player2 != \"rock\" or player2 != \"paper\" or player2 != \"scissors\":\n",
    "        print(\"One or both players did not enter a correct item.\")\n",
    "        play_again = input(\"Do you want to play again? Enter yes or no: \")\n",
    "        if play_again == \"yes\":\n",
    "            continue\n",
    "        else:\n",
    "            break\n",
    "    else:\n",
    "        print(\"Player 2 wins!\")\n",
    "        play_again = input(\"Do you want to play again? Enter yes or no: \")\n",
    "        if play_again == \"yes\":\n",
    "            continue\n",
    "        else:\n",
    "            break"
   ]
  },
  {
   "cell_type": "markdown",
   "metadata": {},
   "source": [
    "## Exercise 9"
   ]
  },
  {
   "cell_type": "code",
   "execution_count": 67,
   "metadata": {},
   "outputs": [
    {
     "name": "stdout",
     "output_type": "stream",
     "text": [
      "4\n",
      "Guess my number between 1 and 9! 3\n",
      "Nope! You're low.\n",
      "\n",
      "Guess my number between 1 and 9! 5\n",
      "Nope! You're high.\n",
      "\n",
      "Guess my number between 1 and 9! gee\n",
      "You must enter a number between 1 and 9!\n",
      "\n",
      "Guess my number between 1 and 9! EXIT\n",
      "Wow someone gives up easily...\n"
     ]
    }
   ],
   "source": [
    "# generate a random number between 1 and 9 (including 1 and 9), ask user to guess a number, then tell them if\n",
    "# they're correct, too high, or too low\n",
    "import numpy as np\n",
    "number = np.random.randint(1, 10,)\n",
    "print(number)\n",
    "while True:\n",
    "    user_number = (input(\"Guess my number between 1 and 9! \"))\n",
    "    tracker = 1\n",
    "    if user_number.lower() == \"exit\":\n",
    "        print(\"Wow someone gives up easily...\")\n",
    "        break\n",
    "    #making sure input is a number, and is between 1 and 9\n",
    "    if user_number.isnumeric() == False or int(user_number) > 9 or int(user_number) < 1:\n",
    "        print(\"You must enter a number between 1 and 9!\\n\")\n",
    "        tracker += 1\n",
    "        continue\n",
    "    elif number == int(user_number):\n",
    "        print(\"You got it baby! Great job, the number was {} and you got it correct in this many guesses: {}\".format(number, tracker))\n",
    "        break\n",
    "    elif number > int(user_number):\n",
    "        print(\"Nope! You're low.\\n\")\n",
    "        tracker += 1\n",
    "        continue\n",
    "    else:\n",
    "        print(\"Nope! You're high.\\n\")\n",
    "        tracker += 1\n",
    "        continue\n",
    "    \n",
    "    "
   ]
  },
  {
   "cell_type": "markdown",
   "metadata": {},
   "source": [
    "## Exercise 9"
   ]
  },
  {
   "cell_type": "code",
   "execution_count": 2,
   "metadata": {},
   "outputs": [
    {
     "name": "stdout",
     "output_type": "stream",
     "text": [
      "[24 21 12  5 22  7  2 24  1 21  8 11 18  4  6]\n",
      "[ 1 40 35  2 48 22  4 20 34 17  1  2 20  2 45  6 44  2 15 33]\n",
      "[1, 2, 4, 6, 22]\n"
     ]
    }
   ],
   "source": [
    "# create two lists, combine them into one list, and try to only do one line of code\n",
    "\n",
    "import numpy as np\n",
    "\n",
    "list1 = np.random.randint(1, 25, 15)\n",
    "list2 = np.random.randint(1, 50, 20)\n",
    "print(list1)\n",
    "print(list2)\n",
    "print(list(set([x for x in list1 if x in list2])))\n"
   ]
  },
  {
   "cell_type": "code",
   "execution_count": 5,
   "metadata": {},
   "outputs": [
    {
     "name": "stdout",
     "output_type": "stream",
     "text": [
      "[1, 3, 4, 5, 9]\n"
     ]
    }
   ],
   "source": [
    "print(list(set([x for x in np.random.randint(1, 26, 45) if x in np.random.randint(1, 10, 10)])))"
   ]
  },
  {
   "cell_type": "code",
   "execution_count": null,
   "metadata": {},
   "outputs": [],
   "source": []
  }
 ],
 "metadata": {
  "kernelspec": {
   "display_name": "Python 3",
   "language": "python",
   "name": "python3"
  },
  "language_info": {
   "codemirror_mode": {
    "name": "ipython",
    "version": 3
   },
   "file_extension": ".py",
   "mimetype": "text/x-python",
   "name": "python",
   "nbconvert_exporter": "python",
   "pygments_lexer": "ipython3",
   "version": "3.7.4"
  }
 },
 "nbformat": 4,
 "nbformat_minor": 2
}
