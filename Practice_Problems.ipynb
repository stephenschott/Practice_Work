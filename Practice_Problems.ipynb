{
 "cells": [
  {
   "cell_type": "code",
   "execution_count": null,
   "metadata": {},
   "outputs": [],
   "source": []
  },
  {
   "cell_type": "code",
   "execution_count": 25,
   "metadata": {},
   "outputs": [
    {
     "name": "stdout",
     "output_type": "stream",
     "text": [
      "Give me your name: Stephen\n",
      "Enter your age please: 36\n",
      "How many copies of this message would you like? 3\n",
      "Hi Stephen! You are currently 36, and will be 100 in 2085.\n",
      "Hi Stephen! You are currently 36, and will be 100 in 2085.\n",
      "Hi Stephen! You are currently 36, and will be 100 in 2085.\n",
      "\n"
     ]
    }
   ],
   "source": [
    "name = input(\"Give me your name: \")\n",
    "age = int(input(\"Enter your age please: \"))\n",
    "copies = int(input(\"How many copies of this message would you like? \"))\n",
    "\n",
    "import datetime\n",
    "now = datetime.datetime.now()\n",
    "now = int(now.year)\n",
    "end_year = str(100 - age + now)\n",
    "\n",
    "\n",
    "print((\"Hi \" + name + \"! You are currently \" + str(age) + \", and will be 100 in \" + end_year + \".\" + '\\n') * copies) "
   ]
  },
  {
   "cell_type": "code",
   "execution_count": 30,
   "metadata": {},
   "outputs": [
    {
     "name": "stdout",
     "output_type": "stream",
     "text": [
      "Enter your number: 14\n",
      "You gave an even number!\n"
     ]
    }
   ],
   "source": [
    "number = int(input(\"Enter your number: \"))\n",
    "\n",
    "def odd_or_even(number):\n",
    "    if number % 2 == 0 and number % 4 != 0:\n",
    "        print(\"You gave an even number!\")\n",
    "    elif number % 4 == 0:\n",
    "        print(\"Your number is even and also divisible by 4!\")\n",
    "    else:\n",
    "        print(\"You gave an odd number!\")\n",
    "        \n",
    "odd_or_even(number)"
   ]
  },
  {
   "cell_type": "code",
   "execution_count": 33,
   "metadata": {},
   "outputs": [
    {
     "name": "stdout",
     "output_type": "stream",
     "text": [
      "Enter your number: 135638\n",
      "Enter your divisor: 450\n",
      "135638 is not divisible by 450!\n"
     ]
    }
   ],
   "source": [
    "number = int(input(\"Enter your number: \"))\n",
    "divisor = int(input(\"Enter your divisor: \"))\n",
    "\n",
    "def odd_or_even(number, divisor):\n",
    "    if number % divisor == 0:\n",
    "        print(str(number) + \" is divisible by \" + str(divisor) + \"!\")\n",
    "    else:\n",
    "        print(str(number) +\" is not divisible by \" + str(divisor) + \"!\")\n",
    "        \n",
    "odd_or_even(number, divisor)"
   ]
  },
  {
   "cell_type": "code",
   "execution_count": 38,
   "metadata": {},
   "outputs": [
    {
     "name": "stdout",
     "output_type": "stream",
     "text": [
      "Enter a number: 600\n",
      "Enter a divisor: 6\n",
      "600 is divisible by 6!\n"
     ]
    }
   ],
   "source": [
    "number = int(input(\"Enter a number: \"))\n",
    "divisor = int(input(\"Enter a divisor: \"))\n",
    "\n",
    "if number % divisor != 0:\n",
    "    print(str(number) + \" is not divisible by \" + str(divisor) + \"!\")\n",
    "elif number % divisor == 0:\n",
    "    print(str(number) + \" is divisible by \" + str(divisor) + \"!\")\n"
   ]
  },
  {
   "cell_type": "markdown",
   "metadata": {},
   "source": [
    "## Exercise 3"
   ]
  },
  {
   "cell_type": "code",
   "execution_count": 77,
   "metadata": {},
   "outputs": [
    {
     "name": "stdout",
     "output_type": "stream",
     "text": [
      "[1, 3, 5, 7, 9, 11, 13]\n"
     ]
    }
   ],
   "source": [
    "my_list = [1, 3, 5, 7, 9, 11, 13, 15, 17, 19]\n",
    "\n",
    "new_list = []\n",
    "for x in my_list:\n",
    "    if(x < 15):\n",
    "        new_list.append(x)\n",
    "        \n",
    "print(new_list)"
   ]
  },
  {
   "cell_type": "markdown",
   "metadata": {},
   "source": [
    "### Exercises 3.2 and 3.3"
   ]
  },
  {
   "cell_type": "code",
   "execution_count": 79,
   "metadata": {},
   "outputs": [
    {
     "data": {
      "text/plain": [
       "[1, 3, 5, 7, 9, 11, 13]"
      ]
     },
     "execution_count": 79,
     "metadata": {},
     "output_type": "execute_result"
    }
   ],
   "source": [
    "my_list = [ 1, 3, 5, 7, 9, 11, 13, 15, 17, 19]\n",
    "\n",
    "[x for x in my_list if x < 15]"
   ]
  },
  {
   "cell_type": "code",
   "execution_count": 81,
   "metadata": {},
   "outputs": [
    {
     "name": "stdout",
     "output_type": "stream",
     "text": [
      "Enter a number and all numbers less than the number you enter will return: 17\n",
      "[1, 3, 5, 7, 9, 11, 13, 15]\n"
     ]
    }
   ],
   "source": [
    "my_list = [ 1, 3, 5, 7, 9, 11, 13, 15, 17, 19]\n",
    "\n",
    "user_input = int(input(\"Enter a number and all numbers less than the number you enter will return: \"))\n",
    "\n",
    "new_list = [x for x in my_list if x < user_input]\n",
    "print(new_list)"
   ]
  },
  {
   "cell_type": "markdown",
   "metadata": {},
   "source": [
    "## Exercise 4!"
   ]
  },
  {
   "cell_type": "code",
   "execution_count": 3,
   "metadata": {},
   "outputs": [
    {
     "name": "stdout",
     "output_type": "stream",
     "text": [
      "Enter a number: 180\n",
      "180 is divisible by [1, 2, 3, 4, 5, 6, 9, 10, 12, 15, 18, 20, 30, 36, 45, 60, 90]!\n"
     ]
    }
   ],
   "source": [
    "#Ask user for a number and return a list of all of its divisors\n",
    "#user_num = int(input(\"Enter a number: \"))\n",
    "user_num = input(\"Enter a number: \")\n",
    "if user_num.isnumeric() == False:\n",
    "    print(\"Please enter a number.\")\n",
    "elif int(user_num) < 0:\n",
    "    print(\"please enter a number that is greater than 0\")\n",
    "else:\n",
    "    divisor_list = range(1, int(user_num))\n",
    "    output = [x for x in divisor_list if int(user_num) % x == 0]\n",
    "    print(str(user_num) + \" is divisible by \" + str(output) + \"!\")\n",
    "            \n"
   ]
  },
  {
   "cell_type": "code",
   "execution_count": null,
   "metadata": {},
   "outputs": [],
   "source": [
    "user_num = input(\"Enter a number: \")\n",
    "\n",
    "def get_divisors(user_num):\n",
    "    if user_num.isnumeric() == False: \n",
    "        print(\"Please enter a number.\")\n",
    "    elif int(user_num) < 1:\n",
    "        print(\"Please enter a number that is greater than 0.\")\n",
    "    else:\n",
    "        divisor_list = range(1, int(user_num))\n",
    "        output = [x for x in divisor_list if int(user_num) % x == 0]\n",
    "        print(str(user_num) + \" is divisible by \" + str(output) + \"!\")\n",
    "\n",
    "get_divisors(user_num)"
   ]
  },
  {
   "cell_type": "markdown",
   "metadata": {},
   "source": [
    "## Exercise 5"
   ]
  },
  {
   "cell_type": "code",
   "execution_count": 197,
   "metadata": {},
   "outputs": [
    {
     "name": "stdout",
     "output_type": "stream",
     "text": [
      "[2, 4, 6, 8, 10]\n"
     ]
    }
   ],
   "source": [
    "#Create two lists and output a new list that is comprised of the numbers that the two original lists share. no repeats.\n",
    "first_list = [1, 2, 3, 4, 5, 6, 7, 8, 9, 10, 2, 2]\n",
    "second_list = [2, 4, 6, 8, 10, 12, 14, 2, 2]\n",
    "\n",
    "combo_list = set([x for x in first_list if x in second_list])\n",
    "combo_list = [x for x in combo_list]\n",
    "\n",
    "print(combo_list)"
   ]
  },
  {
   "cell_type": "markdown",
   "metadata": {},
   "source": [
    "### Exercise 5.1"
   ]
  },
  {
   "cell_type": "code",
   "execution_count": 1,
   "metadata": {},
   "outputs": [
    {
     "ename": "ModuleNotFoundError",
     "evalue": "No module named 'numpy'",
     "output_type": "error",
     "traceback": [
      "\u001b[0;31m---------------------------------------------------------------------------\u001b[0m",
      "\u001b[0;31mModuleNotFoundError\u001b[0m                       Traceback (most recent call last)",
      "\u001b[0;32m<ipython-input-1-4d65910844d9>\u001b[0m in \u001b[0;36m<module>\u001b[0;34m\u001b[0m\n\u001b[1;32m      1\u001b[0m \u001b[0;31m# randomly generated lists, repeate the combo list with no repeats\u001b[0m\u001b[0;34m\u001b[0m\u001b[0;34m\u001b[0m\u001b[0;34m\u001b[0m\u001b[0m\n\u001b[0;32m----> 2\u001b[0;31m \u001b[0;32mimport\u001b[0m \u001b[0mnumpy\u001b[0m \u001b[0;32mas\u001b[0m \u001b[0mnp\u001b[0m\u001b[0;34m\u001b[0m\u001b[0;34m\u001b[0m\u001b[0m\n\u001b[0m\u001b[1;32m      3\u001b[0m \u001b[0;34m\u001b[0m\u001b[0m\n\u001b[1;32m      4\u001b[0m \u001b[0mrandom_list_1\u001b[0m \u001b[0;34m=\u001b[0m \u001b[0mnp\u001b[0m\u001b[0;34m.\u001b[0m\u001b[0mrandom\u001b[0m\u001b[0;34m.\u001b[0m\u001b[0mrandint\u001b[0m\u001b[0;34m(\u001b[0m\u001b[0;36m0\u001b[0m\u001b[0;34m,\u001b[0m \u001b[0;36m40\u001b[0m\u001b[0;34m,\u001b[0m \u001b[0;36m20\u001b[0m\u001b[0;34m)\u001b[0m\u001b[0;34m\u001b[0m\u001b[0;34m\u001b[0m\u001b[0m\n\u001b[1;32m      5\u001b[0m \u001b[0mrandom_list_2\u001b[0m \u001b[0;34m=\u001b[0m \u001b[0mnp\u001b[0m\u001b[0;34m.\u001b[0m\u001b[0mrandom\u001b[0m\u001b[0;34m.\u001b[0m\u001b[0mrandint\u001b[0m\u001b[0;34m(\u001b[0m\u001b[0;36m5\u001b[0m\u001b[0;34m,\u001b[0m \u001b[0;36m50\u001b[0m\u001b[0;34m,\u001b[0m \u001b[0;36m25\u001b[0m\u001b[0;34m)\u001b[0m\u001b[0;34m\u001b[0m\u001b[0;34m\u001b[0m\u001b[0m\n",
      "\u001b[0;31mModuleNotFoundError\u001b[0m: No module named 'numpy'"
     ]
    }
   ],
   "source": [
    "# randomly generated lists, repeate the combo list with no repeats\n",
    "import numpy as np\n",
    "\n",
    "random_list_1 = np.random.randint(0, 40, 20)\n",
    "random_list_2 = np.random.randint(5, 50, 25)\n",
    "\n",
    "combo_list = set([x for x in random_list_1 if x in random_list_2])\n",
    "combo_list = [x for x in combo_list]\n",
    "\n",
    "print(\"list 1: {}\".format(random_list_1))\n",
    "print(\"list 2: {}\".format(random_list_2))\n",
    "print(\"The common number values are: {}\".format(combo_list))"
   ]
  },
  {
   "cell_type": "code",
   "execution_count": 12,
   "metadata": {},
   "outputs": [
    {
     "name": "stdout",
     "output_type": "stream",
     "text": [
      "[8, 19, 7]\n",
      "list 1: [17 17  7 19 19  8  1  2  4 17]\n",
      "list 2: [ 7 18  8 10 16 19 19 14 13 13  8 13  6  5 11]\n"
     ]
    }
   ],
   "source": [
    "rand_list1 = np.random.randint(1, 20, 10)\n",
    "rand_list2 = np.random.randint(5, 20, 15)\n",
    "#printing x if it's in both lists, turning the list into a set to prevent printing same values multiple times, and\n",
    "# turning the set back into a list\n",
    "\n",
    "print(list(set(x for x in rand_list1 if x in rand_list2)))\n",
    "print(\"list 1: {}\".format(rand_list1))\n",
    "print(\"list 2: {}\".format(rand_list2))"
   ]
  },
  {
   "cell_type": "markdown",
   "metadata": {},
   "source": [
    "## Exercise 6"
   ]
  },
  {
   "cell_type": "code",
   "execution_count": 1,
   "metadata": {},
   "outputs": [
    {
     "name": "stdout",
     "output_type": "stream",
     "text": [
      "Enter a word: whattahw\n",
      "Wow! That's a palindrome!\n"
     ]
    }
   ],
   "source": [
    "#get user input and identify if it's a palindrome (same word spelled backwards)\n",
    "\n",
    "word = input(\"Enter a word: \")\n",
    "\n",
    "while len(word) > 2:\n",
    "    if word.lower() == word[::-1].lower():\n",
    "        print(\"Wow! That's a palindrome!\")\n",
    "    else:\n",
    "        print(\"Cool word... even if it's not a palindrome.\")\n",
    "    break\n",
    "else:\n",
    "    print(\"Please enter a longer word kay?\")"
   ]
  },
  {
   "cell_type": "markdown",
   "metadata": {},
   "source": [
    "## Exercise 7"
   ]
  },
  {
   "cell_type": "code",
   "execution_count": 17,
   "metadata": {},
   "outputs": [
    {
     "name": "stdout",
     "output_type": "stream",
     "text": [
      "[2, 4, 6, 8, 10, 12]\n"
     ]
    }
   ],
   "source": [
    "#a list is given, write one line of code that gives back only the even elements\n",
    "list_a = [1, 2, 3, 4, 5, 6, 7, 8, 9, 10, 11, 12]\n",
    "\n",
    "print([x for x in list_a if x % 2 == 0])\n",
    "#it didn't technically ask for it to be stored as a variable so I didn't create one, which will save memory/storage"
   ]
  },
  {
   "cell_type": "markdown",
   "metadata": {},
   "source": [
    "## Exercise 8"
   ]
  },
  {
   "cell_type": "code",
   "execution_count": 24,
   "metadata": {},
   "outputs": [
    {
     "name": "stdout",
     "output_type": "stream",
     "text": [
      "Player 1: Enter rock, paper, or scissors: paper\n",
      "Player 2: Enter rock, paper, or scissors: rock\n",
      "Player 1 wins!\n",
      "Do you want to play again? Enter yes or no: no\n"
     ]
    }
   ],
   "source": [
    "#two players input rock, paper, or scissors. print winner message and ask if they want to play again\n",
    "\n",
    "while True:\n",
    "    player1 = input(\"Player 1: Enter rock, paper, or scissors: \")\n",
    "    player2 = input(\"Player 2: Enter rock, paper, or scissors: \")\n",
    "    if player1 == \"rock\" and player2 == \"scissors\" or player1 == \"scissors\" and player2 == \"paper\" or player1 == \"paper\" and player2 == \"rock\":\n",
    "        print(\"Player 1 wins!\")\n",
    "        play_again = input(\"Do you want to play again? Enter yes or no: \")\n",
    "        if play_again == \"yes\":\n",
    "            continue\n",
    "        else:\n",
    "            break\n",
    "    elif player1 == player2:\n",
    "        print(\"The result is a draw!\")\n",
    "        play_again = input(\"Do you want to play again? Enter yes or no: \")\n",
    "        if play_again == \"yes\":\n",
    "            continue\n",
    "        else:\n",
    "            break\n",
    "    elif player1 != \"rock\" or player1 != \"paper\" or player1 != \"scissors\" or player2 != \"rock\" or player2 != \"paper\" or player2 != \"scissors\":\n",
    "        print(\"One or both players did not enter a correct item.\")\n",
    "        play_again = input(\"Do you want to play again? Enter yes or no: \")\n",
    "        if play_again == \"yes\":\n",
    "            continue\n",
    "        else:\n",
    "            break\n",
    "    else:\n",
    "        print(\"Player 2 wins!\")\n",
    "        play_again = input(\"Do you want to play again? Enter yes or no: \")\n",
    "        if play_again == \"yes\":\n",
    "            continue\n",
    "        else:\n",
    "            break"
   ]
  },
  {
   "cell_type": "markdown",
   "metadata": {},
   "source": [
    "## Exercise 9"
   ]
  },
  {
   "cell_type": "code",
   "execution_count": 67,
   "metadata": {},
   "outputs": [
    {
     "name": "stdout",
     "output_type": "stream",
     "text": [
      "4\n",
      "Guess my number between 1 and 9! 3\n",
      "Nope! You're low.\n",
      "\n",
      "Guess my number between 1 and 9! 5\n",
      "Nope! You're high.\n",
      "\n",
      "Guess my number between 1 and 9! gee\n",
      "You must enter a number between 1 and 9!\n",
      "\n",
      "Guess my number between 1 and 9! EXIT\n",
      "Wow someone gives up easily...\n"
     ]
    }
   ],
   "source": [
    "# generate a random number between 1 and 9 (including 1 and 9), ask user to guess a number, then tell them if\n",
    "# they're correct, too high, or too low\n",
    "import numpy as np\n",
    "number = np.random.randint(1, 10,)\n",
    "print(number)\n",
    "while True:\n",
    "    user_number = (input(\"Guess my number between 1 and 9! \"))\n",
    "    tracker = 1\n",
    "    if user_number.lower() == \"exit\":\n",
    "        print(\"Wow someone gives up easily...\")\n",
    "        break\n",
    "    #making sure input is a number, and is between 1 and 9\n",
    "    if user_number.isnumeric() == False or int(user_number) > 9 or int(user_number) < 1:\n",
    "        print(\"You must enter a number between 1 and 9!\\n\")\n",
    "        tracker += 1\n",
    "        continue\n",
    "    elif number == int(user_number):\n",
    "        print(\"You got it baby! Great job, the number was {} and you got it correct in this many guesses: {}\".format(number, tracker))\n",
    "        break\n",
    "    elif number > int(user_number):\n",
    "        print(\"Nope! You're low.\\n\")\n",
    "        tracker += 1\n",
    "        continue\n",
    "    else:\n",
    "        print(\"Nope! You're high.\\n\")\n",
    "        tracker += 1\n",
    "        continue\n",
    "    \n",
    "    "
   ]
  },
  {
   "cell_type": "markdown",
   "metadata": {},
   "source": [
    "## Exercise 10"
   ]
  },
  {
   "cell_type": "code",
   "execution_count": 2,
   "metadata": {},
   "outputs": [
    {
     "name": "stdout",
     "output_type": "stream",
     "text": [
      "[24 21 12  5 22  7  2 24  1 21  8 11 18  4  6]\n",
      "[ 1 40 35  2 48 22  4 20 34 17  1  2 20  2 45  6 44  2 15 33]\n",
      "[1, 2, 4, 6, 22]\n"
     ]
    }
   ],
   "source": [
    "# create two lists, combine them into one list, and try to only do one line of code\n",
    "\n",
    "import numpy as np\n",
    "\n",
    "list1 = np.random.randint(1, 25, 15)\n",
    "list2 = np.random.randint(1, 50, 20)\n",
    "print(list1)\n",
    "print(list2)\n",
    "print(list(set([x for x in list1 if x in list2])))\n"
   ]
  },
  {
   "cell_type": "code",
   "execution_count": 5,
   "metadata": {},
   "outputs": [
    {
     "name": "stdout",
     "output_type": "stream",
     "text": [
      "[1, 3, 4, 5, 9]\n"
     ]
    }
   ],
   "source": [
    "print(list(set([x for x in np.random.randint(1, 26, 45) if x in np.random.randint(1, 10, 10)])))"
   ]
  },
  {
   "cell_type": "markdown",
   "metadata": {},
   "source": [
    "## Exercise 11"
   ]
  },
  {
   "cell_type": "code",
   "execution_count": 43,
   "metadata": {},
   "outputs": [
    {
     "name": "stdout",
     "output_type": "stream",
     "text": [
      "Give me a number greater than 1: 14567\n",
      "14567 is divible by [7, 2081], and therefore is not a prime number!\n"
     ]
    }
   ],
   "source": [
    "def user_num(num):\n",
    "    return(int(input(num)))\n",
    "\n",
    "the_num = str(user_num(\"Give me a number greater than 1: \"))\n",
    "divisor_list = []\n",
    "if the_num.isnumeric() == True and int(the_num) > 1:\n",
    "    the_num = int(the_num)\n",
    "    divisor_list = [x for x in range(2, (the_num//2)+1) if the_num % x == 0]\n",
    "    if len(divisor_list) == 0:\n",
    "        print(\"{} is a prime number!\".format(the_num))\n",
    "    elif len(divisor_list) != 0:\n",
    "        print(\"{} is divible by {}, and therefore is not a prime number!\".format(the_num, divisor_list))\n",
    "else:\n",
    "    print(\"You did not give a number that is greater than 1.\")"
   ]
  },
  {
   "cell_type": "markdown",
   "metadata": {},
   "source": [
    "## Exercise 12"
   ]
  },
  {
   "cell_type": "code",
   "execution_count": 46,
   "metadata": {},
   "outputs": [
    {
     "data": {
      "text/plain": [
       "[12, 19]"
      ]
     },
     "execution_count": 46,
     "metadata": {},
     "output_type": "execute_result"
    }
   ],
   "source": [
    "def weird_list_problem(your_list):\n",
    "    new_list = [your_list[0], your_list[-1]]\n",
    "    return new_list\n",
    "\n",
    "weird_list_problem([12, 23, 25, 27, 18, 19])"
   ]
  },
  {
   "cell_type": "markdown",
   "metadata": {},
   "source": [
    "## Exercise 13"
   ]
  },
  {
   "cell_type": "code",
   "execution_count": 15,
   "metadata": {},
   "outputs": [
    {
     "name": "stdout",
     "output_type": "stream",
     "text": [
      "How many numbers (>1) would you like in the Fibonnaci sequence? 20\n",
      "[0, 1, 1, 2, 3, 5, 8, 13, 21, 34, 55, 89, 144, 233, 377, 610, 987, 1597, 2584, 4181]\n"
     ]
    }
   ],
   "source": [
    "# Fibonnaci numbers. Creat a function that asks a user how many fibonnaci numbers to generate.\n",
    "# Fibonnaci is a number that is the sum of the two numbers preceding it.\n",
    "\n",
    "\n",
    "def fibonnaci():\n",
    "    how_many = int(input(\"How many numbers (>1) would you like in the Fibonnaci sequence? \"))\n",
    "    fib_list = [0, 1]\n",
    "    i = 2\n",
    "    if how_many == 2:\n",
    "        return fib_list\n",
    "    while len(fib_list) < how_many and len(fib_list) >=2:\n",
    "        fib_list.append(fib_list[i-1] + fib_list[i-2])\n",
    "        i += 1\n",
    "        continue\n",
    "    print(fib_list)\n",
    "    \n",
    "fibonnaci()"
   ]
  },
  {
   "cell_type": "markdown",
   "metadata": {},
   "source": [
    "## Exercise 14"
   ]
  },
  {
   "cell_type": "markdown",
   "metadata": {},
   "source": [
    "#### Write two different functions, each taking a list and returning a new list with all the elements in the first list minus any duplicates. One of the functions uses sets, the other uses loops"
   ]
  },
  {
   "cell_type": "code",
   "execution_count": 16,
   "metadata": {},
   "outputs": [
    {
     "data": {
      "text/plain": [
       "[1, 2, 3, 4, 5, 6, 7, 8, 9]"
      ]
     },
     "execution_count": 16,
     "metadata": {},
     "output_type": "execute_result"
    }
   ],
   "source": [
    "first_list = [1, 2, 3, 4, 5, 6, 7, 8, 9, 9, 7, 5, 3, 1]\n",
    "\n",
    "def no_duplicates(a):\n",
    "    return list(set(first_list))\n",
    "\n",
    "no_duplicates(first_list)"
   ]
  },
  {
   "cell_type": "code",
   "execution_count": 21,
   "metadata": {},
   "outputs": [
    {
     "data": {
      "text/plain": [
       "[1, 2, 3, 4, 5, 6, 7, 8, 9]"
      ]
     },
     "execution_count": 21,
     "metadata": {},
     "output_type": "execute_result"
    }
   ],
   "source": [
    "first_list = [1, 2, 3, 4, 5, 6, 7, 8, 9, 9, 7, 5, 3, 1]\n",
    "\n",
    "def no_dupes(a):\n",
    "    new_list = []\n",
    "    for x in a:\n",
    "        if x not in new_list:\n",
    "            new_list.append(x)\n",
    "    return new_list\n",
    "\n",
    "no_dupes(first_list)"
   ]
  },
  {
   "cell_type": "markdown",
   "metadata": {},
   "source": [
    "## Exercise 15\n",
    "#### Use functions to ask for a long string of words and return the words in reverse order"
   ]
  },
  {
   "cell_type": "code",
   "execution_count": 17,
   "metadata": {},
   "outputs": [
    {
     "name": "stdout",
     "output_type": "stream",
     "text": [
      "What words would you like to be reversed? I'm intrigued by this\n"
     ]
    },
    {
     "data": {
      "text/plain": [
       "\"this by intrigued I'm\""
      ]
     },
     "execution_count": 17,
     "metadata": {},
     "output_type": "execute_result"
    }
   ],
   "source": [
    "def reverse_order_words(words = input(\"What words would you like to be reversed? \")):\n",
    "    reverse = \" \".join(list(words.split())[::-1])\n",
    "    return reverse\n",
    "    \n",
    "reverse_order_words()"
   ]
  },
  {
   "cell_type": "markdown",
   "metadata": {},
   "source": [
    "## Exercise 16\n",
    "#### Generate a password using lower and uppercase letters, numbers, and special characters."
   ]
  },
  {
   "cell_type": "code",
   "execution_count": 40,
   "metadata": {},
   "outputs": [
    {
     "name": "stdout",
     "output_type": "stream",
     "text": [
      "Do you want a strong or weak password? strong\n",
      "[Ho3a>gS6AN~~</\n"
     ]
    }
   ],
   "source": [
    "import random, string\n",
    "\n",
    "def password_generator(strength = input(\"Do you want a strong or weak password? \")):\n",
    "    password = \"\"\n",
    "    if strength == \"strong\":\n",
    "        while len(password) < 15:\n",
    "            password += random.choice(string.ascii_letters + string.digits + string.punctuation)\n",
    "            if len(password) == 15:\n",
    "                print(password)\n",
    "    elif strength == \"weak\":\n",
    "        while len(password) < 15:\n",
    "            password += password + random.choice(string.ascii_lowercase + string.digits)\n",
    "            if len(password) == 15:\n",
    "                return password\n",
    "    else:\n",
    "        print(\"I'm sorry, I didn't catch that. Try again!\")\n",
    "        break\n",
    "        \n",
    "password_generator()\n",
    "\n"
   ]
  },
  {
   "cell_type": "markdown",
   "metadata": {},
   "source": [
    "## Exercise 17\n",
    "#### Use beautifulsoup and requests to make a list of the NYT articles"
   ]
  },
  {
   "cell_type": "code",
   "execution_count": 11,
   "metadata": {},
   "outputs": [],
   "source": [
    "from bs4 import BeautifulSoup\n",
    "import requests\n",
    "\n",
    "source = requests.get('https://www.nbcnews.com/').text\n",
    "soup = BeautifulSoup(source, 'lxml')\n",
    "#print(soup.prettify())"
   ]
  },
  {
   "cell_type": "code",
   "execution_count": 96,
   "metadata": {},
   "outputs": [
    {
     "name": "stdout",
     "output_type": "stream",
     "text": [
      "Sens. Schumer, Gillibrand and most House Dems from N.Y. call for Cuomo to resign\n",
      "Sens. Schumer, Gillibrand and most House Dems from N.Y. call for Cuomo to resign\n",
      "Minneapolis reaches $27M settlement with Floyd family\n",
      "Minneapolis reaches $27M settlement with Floyd family\n",
      "'Is it even worth it?' Small pharmacies are paying the price for giving vaccinations\n",
      "'Is it even worth it?' Small pharmacies are paying the price for giving vaccinations\n",
      "Two deaths in two weeks at U.S. colleges prompts renewed calls for Greek life reform\n",
      "Two deaths in two weeks at U.S. colleges prompts renewed calls for Greek life reform\n",
      "These women are carrying the torch for Breonna Taylor\n",
      "These women are carrying the torch for Breonna Taylor\n",
      "Hollywood could bring in $10 billion more annually by addressing racial disparities, new study finds\n",
      "Hollywood could bring in $10 billion more annually by addressing racial disparities, new study finds\n",
      "USDA conservation program seen as way to help battle climate change\n",
      "USDA conservation program seen as way to help battle climate change\n",
      "The Week in Pictures: An ambulance wedding and vaccine Superman\n",
      "The Week in Pictures: An ambulance wedding and vaccine Superman\n",
      "Everything you need to know about getting a Covid-19 vaccination\n",
      "Everything you need to know about getting a Covid-19 vaccination\n"
     ]
    }
   ],
   "source": [
    "x = soup.find(class_= 'tease-card__headline')\n",
    "\n",
    "#print(x.text)\n",
    "\n",
    "#headline = x.a.h3.span.text\n",
    "#print(headline)\n",
    "#print(section.prettify())\n",
    "\n",
    "for section in soup.find_all(class_= 'tease-card__headline'):\n",
    "    title = section.text\n",
    "    print(title)"
   ]
  },
  {
   "cell_type": "code",
   "execution_count": 99,
   "metadata": {},
   "outputs": [
    {
     "name": "stdout",
     "output_type": "stream",
     "text": [
      "Cuomo denies reported claim of groping woman at governor's mansion\n",
      "Women like me are exhausted by Andrew Cuomo's sexual harassment charges. Here's why.\n",
      "Judge reinstates third-degree murder charge against Derek Chauvin in George Floyd's death\n",
      "Their complaints against Chauvin were dropped. Now they wonder: Could he have been stopped?\n",
      "U.S. not planning to share AstraZeneca vaccine stockpile with other countries\n",
      "States are rolling out vaccination plans. Track the numbers inoculated across the country.\n",
      "How to navigate PlanYourVaccine.com\n"
     ]
    }
   ],
   "source": [
    "for news in soup.find_all(class_ = 'related-content__headline'):\n",
    "    their_titles = news.text\n",
    "    print(their_titles)"
   ]
  },
  {
   "cell_type": "code",
   "execution_count": 100,
   "metadata": {},
   "outputs": [
    {
     "name": "stdout",
     "output_type": "stream",
     "text": [
      "Still a mystery: Was the Capitol riot planned far in advance?\n",
      "Bahamas resort's Covid offer: Free stay or private jet ride for guests who test positive\n",
      "Harry and Meghan's interview hit the royal brand where it hurts most\n",
      "Iranian-backed Houthi rebels in Yemen ramp up drone, missile attacks on Saudi Arabia\n",
      "Musicians call out Grammys as The Weeknd boycotts awards ceremony\n",
      "Ruth Bader Ginsburg's statue unveiled in her native Brooklyn, N.Y.\n",
      "Ohio zookeeper injured in cheetah attack\n",
      "'I thought this was my building,' Knicks legend Ewing says after security stops at MSG\n",
      "Colorado bracing for major weekend snowstorm\n",
      "Clubhouse is having a wonderful moment. But it could still end badly.\n",
      "Tilda Swinton perfectly channels women's rage in Almodóvar's 'The Human Voice'\n",
      "It does matter if kids don't achieve academic milestones during Covid. Here's why.\n",
      "Is brotherly bond broken between Prince Harry and Prince William?\n",
      "Watch: Ruth Bader Ginsburg statue unveiled in Brooklyn\n",
      "Netflix tests plan to crack down on customers sharing passwords\n",
      "‘You’re not alone’: Hero veteran speaks out on mental wellness after war\n",
      "Dr. Seuss' illustrations reveal just how ingrained anti-Asian racism is in America\n",
      "A lockdown, a reprieve, and a resurgence: Tracking the pandemic by seasons\n",
      "A Holocaust survivor received a Clubhouse invite. Thousands came to hear him speak.\n",
      "March 11 left America united by fear: 'Everything has changed.' Here’s how the day unfolded.\n",
      "Harry and Meghan's interview hit the royal brand where it hurts most\n",
      "Biden directs states to make all adults eligible for Covid vaccinations by May 1\n",
      "Tucker Carlson slammed by military leaders for mocking pregnant service members\n",
      "Dr. Seuss' illustrations reveal just how ingrained anti-Asian racism is in America\n",
      "California state senator looks to overturn 'Walking While Trans' law\n",
      "Mississippi governor signs bill banning trans athletes from school sports\n",
      "Mississippi governor signs bill banning trans athletes from school sports\n",
      "Anti-trans violence is surging. A lack of government tracking obscures how badly.\n",
      "Black communities show solidarity amid anti-Asian attacks\n",
      "Hollywood could bring in $10 billion more annually by addressing racial disparities, new study finds\n",
      "Black electrical worker files lawsuit after reporting noose on job site\n",
      "These women are carrying the torch for Breonna Taylor\n",
      "Uber bans rider after racist attack on Asian driver at LAX\n",
      "'I am not your scapegoat': NYC public art calls out anti-Asian racism\n",
      "Dr. Seuss' illustrations reveal just how ingrained anti-Asian racism is in America\n",
      "Teen Vogue sees ad pause from editor's past racist, homophobic tweets\n",
      "Latino community clinics battled Covid head on. Now they want a shot at more vaccines.  \n",
      "'Yes Day' sets aside stereotypes, shows joy in a typical —and diverse — American family\n",
      "'History is dying': Brazil's Indigenous urgently need Covid vaccines, protection, groups say\n",
      "'They don't care about us': Meatpacking workers feel ignored, alone in vaccine prioritization\n"
     ]
    }
   ],
   "source": [
    "for more_news in soup.find_all(class_ = \"alacarte__headline\"):\n",
    "    print(more_news.text)"
   ]
  },
  {
   "cell_type": "code",
   "execution_count": 53,
   "metadata": {},
   "outputs": [],
   "source": [
    "second_source = requests.get('https://www.nytimes.com/').text\n",
    "second_soup = BeautifulSoup(second_source, 'lxml')\n",
    "#print(second_soup.prettify())\n"
   ]
  },
  {
   "cell_type": "code",
   "execution_count": 55,
   "metadata": {},
   "outputs": [
    {
     "name": "stdout",
     "output_type": "stream",
     "text": [
      "Worries Over AstraZeneca Doses Upend Europe’s Vaccine Drive\n",
      "Can vaccines cause blood clots? Here’s what we know.\n",
      "The Arts Are Coming Back This Summer. Just Step Outside.\n",
      "A Warning in Cherokee Nation: Plenty of Vaccines, but Not Enough Arms\n",
      "This pharmacist had vaccine doses to spare. So he hit the road.\n",
      "It’s OK to Grieve for the Small Losses of a Lost Year\n",
      "Trump’s Incomplete Border Wall Is in Pieces That Could Linger for Decades\n",
      "Democrats, Pushing Stimulus, Admit to Regrets on Obama’s 2009 Response\n",
      "The Financial Crisis the World Forgot\n",
      "In a Secret Settlement, Amazon’s Playbook for Crushing Unions\n",
      "The Victims of Agent Orange the U.S. Has Never Acknowledged\n",
      "Sports Meant So Much to Me. Why Wouldn’t My Son Play?\n"
     ]
    }
   ],
   "source": [
    "for headline in second_soup.find_all(class_ = 'e1lsht870'):\n",
    "    print(headline.text)\n",
    "        "
   ]
  },
  {
   "cell_type": "code",
   "execution_count": null,
   "metadata": {},
   "outputs": [],
   "source": []
  }
 ],
 "metadata": {
  "kernelspec": {
   "display_name": "Python 3",
   "language": "python",
   "name": "python3"
  },
  "language_info": {
   "codemirror_mode": {
    "name": "ipython",
    "version": 3
   },
   "file_extension": ".py",
   "mimetype": "text/x-python",
   "name": "python",
   "nbconvert_exporter": "python",
   "pygments_lexer": "ipython3",
   "version": "3.9.2"
  }
 },
 "nbformat": 4,
 "nbformat_minor": 2
}
